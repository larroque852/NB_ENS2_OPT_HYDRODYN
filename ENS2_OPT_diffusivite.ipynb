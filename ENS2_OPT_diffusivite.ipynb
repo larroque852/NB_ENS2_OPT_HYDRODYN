{
 "cells": [
  {
   "cell_type": "markdown",
   "metadata": {},
   "source": [
    "\n",
    "# EQUATION DE DIFFUSIVITE\n",
    "\n",
    "Pour un écoulement monodimensionnel dans un milieu poreux homogène saturé d'épaisseur constante, l'équation de diffusivité peut s'écrire pour la hauteur piézométrique $ h$:\n",
    "\n",
    "$$\n",
    "\\frac{\\partial}{\\partial x}\\left({K\\frac{\\partial h}{\\partial x}}\\right) = S_s \\frac{dh}{dt}\n",
    "$$\n",
    "\n",
    "avec $K$ ($m.s^{-1}$) la conductivité hydraulique, $S_s$ ($m^{-1}$) le coefficient d'emmagasinement spécifique.\n",
    "\n",
    "Pour un aquifère confiné d'épaisseur $b$\n",
    "- la transmissivité $T_c$ est:\n",
    "$$ T_c = Kb $$\n",
    "\n",
    "- le coefficient d'emmagasinement $S$:\n",
    "$$ S = S_s b $$\n",
    "\n",
    "et l'équation de diffusivité:\n",
    "$$\n",
    "T_c\\frac{d^2 h}{dx^2} = S \\frac{dh}{dt}\n",
    "$$\n",
    "\n",
    "Pour une nappe libre, la transmissivité $T_l$ est directement fonction de l'épaisseur saturée, exprimée par la hauteur piézométrique $h$ si le repère d'altitude est pris au mur de l'aquifère:\n",
    "\n",
    "$$ T_l = Kh $$\n",
    "\n",
    "et l'équation de diffusivité:\n",
    "$$\n",
    "\\frac{\\partial}{\\partial x}\\left({Kh\\frac{\\partial h}{\\partial x}}\\right) = S \\frac{dh}{dt}\n",
    "$$\n",
    "\n",
    "Pour caractériser un système aquifère, il est commun d'introduire la diffusivité $D$ ($m^2.s^{-1}$) telle que:\n",
    "\n",
    "$$ D = \\frac{T}{S}  $$\n",
    "\n"
   ]
  },
  {
   "cell_type": "markdown",
   "metadata": {
    "jupyter": {
     "source_hidden": true
    }
   },
   "source": [
    "<a id='nappe_captive'></a>\n",
    "## Ecoulement mono-dimensionnel en régime permanent en nappe captive\n",
    "\n",
    "On considère un aquifère d'épaisseur constante b = 20 mètres. Le niveau piézométrique chute de 5 mètres entre 2 piézomètres situés à 500 m de distance. La conductivité hydraulique est K = 1e-4 m/s et la porosité efficace est de 0.15.\n",
    "Le modèle conceptuel est donné ci-après.\n",
    "\n",
    "\n",
    "<figure>\n",
    "  <IMG SRC=\"laplace_captif.png\" WIDTH=800 ALIGN=\"center\">\n",
    "</figure>\n"
   ]
  },
  {
   "cell_type": "markdown",
   "metadata": {},
   "source": [
    "### Question\n",
    "\n",
    "#### Retrouver l'équation de la hauteur piézométrique entre les 2 piézomètres en considérant un écoulement en régime permanent et tracer le profil piézométrique entre les deux piézométres"
   ]
  },
  {
   "cell_type": "code",
   "execution_count": 1,
   "metadata": {},
   "outputs": [],
   "source": [
    "#profil piézométrique pour une nappe captive\n",
    "##############################################\n",
    "\n",
    "import numpy as np\n",
    "import scipy.special as sp\n",
    "import matplotlib.pyplot as plt\n",
    "\n",
    "# propriétés aquifère\n",
    "\n",
    "\n",
    "#conditions limites pour la nappe\n",
    "\n",
    "\n",
    "#equation analytique\n",
    "\n",
    "\n",
    "#representation graphique\n"
   ]
  },
  {
   "cell_type": "markdown",
   "metadata": {},
   "source": [
    "### Question\n",
    "\n",
    "#### Déterminer le débit transitant au sein de l'aquifère en considérant un front d'emprunt W de large\n"
   ]
  },
  {
   "cell_type": "code",
   "execution_count": 3,
   "metadata": {},
   "outputs": [],
   "source": [
    "# debit transitant dans l'aquifere sur 10 m de front d'emprunt\n",
    "\n",
    "#front d'emprunt (m)\n",
    "W = 10 \n",
    "\n",
    "#débit par front de nappe\n",
    "\n"
   ]
  },
  {
   "cell_type": "markdown",
   "metadata": {},
   "source": [
    "### Question\n",
    "\n",
    "#### Déterminer la vitesse de circulation du fluide au sein de l'aquifère"
   ]
  },
  {
   "cell_type": "code",
   "execution_count": 4,
   "metadata": {},
   "outputs": [],
   "source": [
    "# vitesse de circulation du fluide au sein de l'aquifère\n",
    "\n"
   ]
  },
  {
   "cell_type": "markdown",
   "metadata": {},
   "source": [
    "<a id='nappe_libre'></a>\n",
    "\n",
    "## 2. Ecoulement mono-dimensionnel en régime permanent en nappe libre\n",
    "\n",
    "\n",
    "<figure>\n",
    "  <IMG SRC=\"laplace_libre.png\" WIDTH=800 ALIGN=\"center\">\n",
    "</figure>\n",
    "\n",
    "On considère une nappe libre homogène en connexion hydraulique avec 2 plans d'eau distant de $L = {500}$ mètres. Les épaisseurs saturées au niveau  des plans d'eau sont $H_0 = 20$ mètres  et $H_L = 15$ mètres. L'aquifère peut être soumis à un flux de recharge pluviométrique homogène $N$.\n"
   ]
  },
  {
   "cell_type": "markdown",
   "metadata": {},
   "source": [
    "### Question\n",
    "\n",
    "#### Retrouver l'équation de la hauteur piézométrique entre les 2 plans d'eau en considérant un écoulement en régime permanent, sans recharge pluviométrique puis en prenant en compte une recharge pluviométrique homogène N sur l'aquifère"
   ]
  },
  {
   "cell_type": "markdown",
   "metadata": {},
   "source": [
    "\n",
    "<figure>\n",
    "  <IMG SRC=\"2Drechargeb.png\" WIDTH=600 ALIGN=\"center\">\n",
    "</figure>\n",
    "\n"
   ]
  },
  {
   "cell_type": "markdown",
   "metadata": {},
   "source": [
    "### Question\n",
    "\n",
    "#### Tracer le profil piézométrique entre les 2 cours d'eau en considérant une recharge efficace $N = 300$ mm d'eau par an"
   ]
  },
  {
   "cell_type": "code",
   "execution_count": 5,
   "metadata": {},
   "outputs": [],
   "source": [
    "import numpy as np\n",
    "import scipy.special as sp\n",
    "import matplotlib.pyplot as plt\n",
    "\n",
    "\n",
    "# propriétés aquifère\n",
    "\n",
    "\n",
    "#conditions limites pour la nappe\n",
    "\n",
    "\n",
    "#equation analytique\n",
    "\n",
    "\n",
    "#representation graphique\n"
   ]
  },
  {
   "cell_type": "markdown",
   "metadata": {},
   "source": [
    "### Question\n",
    "\n",
    "#### Dans le cas où la recharge est nulle, quel est le débit transitant au sein de l'aquifère pour un front d'écoulement unitaire $W=1$ mètre?"
   ]
  },
  {
   "cell_type": "markdown",
   "metadata": {},
   "source": [
    "- Débit transitant au sein de l'aquifère\n",
    "\n",
    "Equation de Darcy:\n",
    "$$\n",
    "q = -KWh\\frac{dh}{dx}\n",
    "$$\n",
    "\n",
    "Après ré-arrangement pour intégration:\n",
    "$$\n",
    "qdx = -KWhdh\n",
    "$$\n",
    "\n",
    "Et pour les bornes\n",
    "- $ h = h_0 $ pour $ x = 0 $ \n",
    "- $ h = h_L $ pour $ x = L $\n",
    "\n",
    "$$\n",
    "\\int_{0}^{L} {q}\\mathrm{d}x = \\int_{h_0}^{h_{L}} {-KWh}\\mathrm{d}h\n",
    "$$\n",
    "\n",
    "$$\n",
    "\\left[q\\right]_0^L = -{KW} \\left[\\frac{h^2}{2} \\right]_0^L\n",
    "$$\n",
    "\n",
    "$$\n",
    "qL  = -KW \\left({\\frac{h^2_{L} - h^2_0}{2}} \\right)\n",
    "$$\n",
    "\n",
    "$$\n",
    "q  = - \\frac{KW}{2L} \\left({h^2_{L} - h^2_0} \\right)\n",
    "$$\n",
    "\n"
   ]
  },
  {
   "cell_type": "code",
   "execution_count": 7,
   "metadata": {},
   "outputs": [],
   "source": [
    "import numpy as np\n",
    "import scipy.special as sp\n",
    "import matplotlib.pyplot as plt\n",
    "\n",
    "\n",
    "# propriétés aquifère\n",
    "\n",
    "\n",
    "#conditions limites pour la nappe\n",
    "\n",
    "\n",
    "#equation analytique\n",
    "\n"
   ]
  },
  {
   "cell_type": "code",
   "execution_count": null,
   "metadata": {},
   "outputs": [],
   "source": []
  }
 ],
 "metadata": {
  "kernelspec": {
   "display_name": "Python 3",
   "language": "python",
   "name": "python3"
  },
  "language_info": {
   "codemirror_mode": {
    "name": "ipython",
    "version": 3
   },
   "file_extension": ".py",
   "mimetype": "text/x-python",
   "name": "python",
   "nbconvert_exporter": "python",
   "pygments_lexer": "ipython3",
   "version": "3.8.3"
  }
 },
 "nbformat": 4,
 "nbformat_minor": 4
}
