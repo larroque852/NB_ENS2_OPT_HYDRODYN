{
 "cells": [
  {
   "cell_type": "markdown",
   "metadata": {},
   "source": [
    "\n",
    "# EQUATION DE DIFFUSIVITE\n",
    "\n",
    "Pour un écoulement monodimensionnel dans un milieu poreux homogène saturé d'épaisseur constante, l'équation de diffusivité peut s'écrire pour la hauteur piézométrique $ h$:\n",
    "\n",
    "$$\n",
    "\\frac{\\partial}{\\partial x}\\left({K\\frac{\\partial h}{\\partial x}}\\right) = S_s \\frac{dh}{dt}\n",
    "$$\n",
    "\n",
    "avec $K$ ($m.s^{-1}$) la conductivité hydraulique, $S_s$ ($m^{-1}$) le coefficient d'emmagasinement spécifique.\n",
    "\n",
    "Pour un aquifère confiné d'épaisseur $b$\n",
    "- la transmissivité $T_c$ est:\n",
    "$$ T_c = Kb $$\n",
    "\n",
    "- le coefficient d'emmagasinement $S$:\n",
    "$$ S = S_s b $$\n",
    "\n",
    "et l'équation de diffusivité:\n",
    "$$\n",
    "T_c\\frac{d^2 h}{dx^2} = S \\frac{dh}{dt}\n",
    "$$\n",
    "\n",
    "Pour une nappe libre, la transmissivité $T_l$ est directement fonction de l'épaisseur saturée, exprimée par la hauteur piézométrique $h$ si le repère d'altitude est pris au mur de l'aquifère:\n",
    "\n",
    "$$ T_l = Kh $$\n",
    "\n",
    "et l'équation de diffusivité:\n",
    "$$\n",
    "\\frac{\\partial}{\\partial x}\\left({Kh\\frac{\\partial h}{\\partial x}}\\right) = S \\frac{dh}{dt}\n",
    "$$\n",
    "\n",
    "Pour caractériser un système aquifère, il est commun d'introduire la diffusivité $D$ ($m^2.s^{-1}$) telle que:\n",
    "\n",
    "$$ D = \\frac{T}{S}  $$\n",
    "\n"
   ]
  },
  {
   "cell_type": "markdown",
   "metadata": {
    "jupyter": {
     "source_hidden": true
    }
   },
   "source": [
    "<a id='nappe_captive'></a>\n",
    "## Ecoulement mono-dimensionnel en régime permanent en nappe captive\n",
    "\n",
    "On considère un aquifère d'épaisseur constante b = 20 mètres. Le niveau piézométrique chute de 5 mètres entre 2 piézomètres situés à 500 m de distance. La conductivité hydraulique est K = 1e-4 m/s et la porosité efficace est de 0.15.\n",
    "Le modèle conceptuel est donné ci-après.\n",
    "\n",
    "\n",
    "<figure>\n",
    "  <IMG SRC=\"laplace_captif.png\" WIDTH=800 ALIGN=\"center\">\n",
    "</figure>\n"
   ]
  },
  {
   "cell_type": "markdown",
   "metadata": {},
   "source": [
    "### Question\n",
    "\n",
    "#### Retrouver l'équation de la hauteur piézométrique entre les 2 piézomètres en considérant un écoulement en régime permanent et tracer le profil piézométrique entre les deux piézométres"
   ]
  },
  {
   "cell_type": "markdown",
   "metadata": {},
   "source": [
    "    \n",
    "Pour un écoulement monodimensionnel, l'équation de diffusivité peut s'écrire:\n",
    "\n",
    "$$\n",
    "\\frac{\\partial}{\\partial x}\\left({Kb\\frac{\\partial h}{\\partial x}}\\right) = S \\frac{dh}{dt}\n",
    "$$\n",
    "\n",
    "Pour une nappe captive homogène, si l'aquifère présente une épaisseur constante, le produit $Kb$  qui correspond à la transmissivité est constant et est indépendant de la hauteur piézométrique $h$.\n",
    "\n",
    "Le régime d'écoulement considéré dans le cas présent est permanent (pas de variation au cours du temps), donc:\n",
    "\n",
    "$$\n",
    "\\frac{dh}{dt} = 0\n",
    "$$\n",
    "\n",
    "Pour l'équation de diffusivité, on obtient:\n",
    "\n",
    "$$\n",
    "\\frac{d^2 h}{dx^2} = 0\n",
    "$$\n",
    "\n",
    "\n",
    "L'équation différentielle peut être résolue par intégrations successives:\n",
    "\n",
    "$$\n",
    "\\frac{d^2 h}{dx^2}  = 0 = \\frac{d \\left( {\\frac{dh}{dx}} \\right)}{dx}\n",
    "$$\n",
    "\n",
    "Intégration 1:\n",
    "\n",
    "$$\n",
    "\\frac{dh}{dx} = C\n",
    "$$\n",
    "\n",
    "avec C constante d'intégration.\n",
    "\n",
    "Intégration 2:\n",
    "\n",
    "$$\n",
    "\\frac{dh}{dx} = C \\Longrightarrow h(x) = Cx + D\n",
    "$$\n",
    "\n",
    "avec D deuxième constante d'intégration.\n",
    "\n",
    "Pour les conditions limites suivantes:\n",
    "- $ h = h_0 $ pour $ x = 0 $ donc $h(0) = C\\times0 + D $ soit $ D = h_0 $\n",
    "- $ h = h_L $ pour $ x = L $ donc $h(D) = C.L + h_0 $ soit $ C = \\frac{h_L - h_0}{L}$\n",
    "\n",
    "$$\n",
    "h = \\frac{h_L - h_0}{L}x + h_0\n",
    "$$\n",
    "    "
   ]
  },
  {
   "cell_type": "code",
   "execution_count": 11,
   "metadata": {},
   "outputs": [
    {
     "data": {
      "image/png": "[encoded data removed]",
      "text/plain": [
       "<Figure size 432x288 with 1 Axes>"
      ]
     },
     "metadata": {
      "needs_background": "light"
     },
     "output_type": "display_data"
    }
   ],
   "source": [
    "#profil piézométrique\n",
    "import numpy as np\n",
    "import scipy.special as sp\n",
    "import matplotlib.pyplot as plt\n",
    "\n",
    "K = 1.4e-4 # m/s\n",
    "b = 20 #metres\n",
    "T = K * b * 86400 #m2/j\n",
    "omega = 0.15\n",
    "\n",
    "h0 = 25 #mNG\n",
    "hL = 20 #mNG\n",
    "L = 500 #m\n",
    "\n",
    "x = np.arange(1,L,1)\n",
    "h = ((hL - h0)/L) * x + h0\n",
    "\n",
    "plt.title('Hauteur piézométrique - Nappe captive')\n",
    "plt.xlabel('x (m)')\n",
    "plt.ylabel('h (m NG)')\n",
    "plt.grid()\n",
    "plt.plot(x,h)\n",
    "plt.show()"
   ]
  },
  {
   "cell_type": "markdown",
   "metadata": {},
   "source": [
    "### Question\n",
    "\n",
    "#### Déterminer le débit transitant au sein de l'aquifère en considérant un front d'emprunt W de large\n"
   ]
  },
  {
   "cell_type": "markdown",
   "metadata": {},
   "source": [
    "\n",
    "Par application de la loi de Darcy, le flux spécifique $q$ transitant à travers l'aquifère peut être exprimé par:\n",
    "    \n",
    "$$\n",
    "q = -Kb\\frac{dh}{dx}\n",
    "$$\n",
    "\n",
    "Si on connaît les valeurs $h_0$ et $h_L$ en deux points de la nappe distants de $L$ est:\n",
    "$$\n",
    "q = Kb\\left({ \\frac{h_0 - h_L}{L}} \\right)\n",
    "$$\n",
    "\n",
    "soit pour un front d'écoulement $W$ mètres:\n",
    "$$\n",
    "Q_W = q W\n",
    "$$\n"
   ]
  },
  {
   "cell_type": "code",
   "execution_count": 13,
   "metadata": {},
   "outputs": [
    {
     "name": "stdout",
     "output_type": "stream",
     "text": [
      "Le débit transitant au sein de l\"aquifère est Q = 24.2 m3/jour\n"
     ]
    }
   ],
   "source": [
    "# debit transitant dans l'aquifere sur 10 m de front d'emprunt\n",
    "W = 10 #front d'emprunt (m)\n",
    "\n",
    "Q = (K * 86400 * b * (h0-hL)/L) * W\n",
    "\n",
    "print('Le débit transitant au sein de l\"aquifère est Q = {:.3g} m3/jour'.format(Q))\n"
   ]
  },
  {
   "cell_type": "markdown",
   "metadata": {},
   "source": [
    "### Question\n",
    "\n",
    "#### Déterminer la vitesse de circulation du fluide au sein de l'aquifère"
   ]
  },
  {
   "cell_type": "markdown",
   "metadata": {},
   "source": [
    "La vitesse de circulation réelle $u$ est obtenue à partir de la vitesse de Darcy $q = Q/A$ et de la porosité efficace $\\omega$:\n",
    "$$\n",
    "u = q / \\omega\n",
    "$$"
   ]
  },
  {
   "cell_type": "code",
   "execution_count": 6,
   "metadata": {},
   "outputs": [
    {
     "name": "stdout",
     "output_type": "stream",
     "text": [
      "vitesse de circulation du fluide au sein de l\"aquifère u = 0.806 m/jour\n"
     ]
    }
   ],
   "source": [
    "# vitesse de circulation du fluide au sein de l'aquifère\n",
    "\n",
    "u = (K * (h0-hL)/L) / omega * 86400\n",
    "\n",
    "print('vitesse de circulation du fluide au sein de l\"aquifère u = {:.3g} m/jour'.format(u))\n"
   ]
  },
  {
   "cell_type": "markdown",
   "metadata": {},
   "source": [
    "<a id='nappe_libre'></a>\n",
    "\n",
    "## 2. Ecoulement mono-dimensionnel en régime permanent en nappe libre\n",
    "\n",
    "\n",
    "<figure>\n",
    "  <IMG SRC=\"laplace_libre.png\" WIDTH=800 ALIGN=\"center\">\n",
    "</figure>\n",
    "\n",
    "On considère une nappe libre homogène en connexion hydraulique avec 2 plans d'eau distant de $L = {500}$ mètres. Les épaisseurs saturées au niveau  des plans d'eau sont $H_0 = 20$ mètres  et $H_L = 15$ mètres. L'aquifère peut être soumis à un flux de recharge pluviométrique homogène $N$.\n"
   ]
  },
  {
   "cell_type": "markdown",
   "metadata": {},
   "source": [
    "### Question\n",
    "\n",
    "#### Retrouver l'équation de la hauteur piézométrique entre les 2 plans d'eau en considérant un écoulement en régime permanent, sans recharge pluviométrique puis en prenant en compte une recharge pluviométrique homogène N sur l'aquifère"
   ]
  },
  {
   "cell_type": "markdown",
   "metadata": {},
   "source": [
    "On souhaite exprimer la distribution spatiale de la hauteur piézométrique au sein d'une nappe libre homogène pour un écoulement en régime permanent. La nappe peut être soumise à une recharge uniforme depuis la surface.\n",
    "Le modèle conceptuel est donné ci-après.\n",
    "\n",
    "<figure>\n",
    "  <IMG SRC=\"2Drechargeb.png\" WIDTH=600 ALIGN=\"center\">\n",
    "</figure>\n",
    "\n",
    "Pour un écoulement monodimensionnel en nappe libre en prenant en compte un terme puits/source N (recharge), l'équation de diffusivité peut s'écrire:\n",
    "\n",
    "$$\n",
    "\\frac{\\partial}{\\partial x}\\left(Kh\t\\frac{\\partial h}{\\partial x}\\right) + N = S\t\\frac{\\partial h}{\\partial t}\n",
    "$$\n",
    "\n",
    "En réarrangeant les termes et en passant aux dérivées totales, l'équation précédente peut se réécrire pour le régime permanent:\n",
    "$$    \n",
    "\\frac{\\partial}{\\partial x}\\left(Kh\t\\frac{\\partial h}{\\partial x}\\right) + N = 0   \n",
    "$$\n",
    "$$    \n",
    "\\frac{d}{d x}\\left(h\\frac{d h}{d x}\\right)  = -\\frac{N}{K}\n",
    "$$\n",
    "    1ère intégration\n",
    "$$    \n",
    "h\\frac{d h}{d x}  = -\\frac{N}{K}x + C1\n",
    "$$\n",
    "   2ème intégration\n",
    "   \n",
    "$$\n",
    "\\frac{1}{2} h^2 = -\\frac{1}{2} \\frac{N}{K}x^2 + C_1 x + C_2\n",
    "$$\n",
    "\n",
    "    \n",
    "Pour le modèle considéré, nous retenons les conditions limites suivantes:\n",
    "- $ h = h_0 $ pour $ x = 0 $ \n",
    "- $ h = h_L $ pour $ x = L $\n",
    "    \n",
    "La résolution de la primitive pour les conditions limites amène à l'équation de la surface piézométrique suivante pour la nappe libre soumise à recharge:\n",
    "$$\n",
    "h = \\sqrt{h_0^2 + \\frac{h_L^2-h_0^2}{L}x - \\frac{N}{K}(L-x)x}\n",
    "$$"
   ]
  },
  {
   "cell_type": "markdown",
   "metadata": {},
   "source": [
    "### Question 2.b\n",
    "\n",
    "Tracer le profil piézométrique entre les 2 cours d'eau en considérant une recharge efficace $N = 300$ mm d'eau par an"
   ]
  },
  {
   "cell_type": "code",
   "execution_count": 9,
   "metadata": {},
   "outputs": [
    {
     "data": {
      "image/png": "[encoded data removed]",
      "text/plain": [
       "<Figure size 432x288 with 1 Axes>"
      ]
     },
     "metadata": {
      "needs_background": "light"
     },
     "output_type": "display_data"
    }
   ],
   "source": [
    "import numpy as np\n",
    "import scipy.special as sp\n",
    "import matplotlib.pyplot as plt\n",
    "\n",
    "K = 1.8 #m/j\n",
    "h0 = 31 #mNG\n",
    "hL = 27 #mNG\n",
    "N = - 0.3 #m H2O/an (signe - signifie entree dans le systeme / on peut changer la convention en modifiant le signe de N dans l'equation)\n",
    "L = 1500 #m\n",
    "\n",
    "# profil piézométrique\n",
    "x = np.arange(1,L,1)\n",
    "h = np.sqrt(h0 **2 + ((hL ** 2 - h0 ** 2)/(L)) * x - N/365/K* (L-x)*x)\n",
    "\n",
    "plt.title('Hauteur piézométrique - Nappe libre soumise à recharge')\n",
    "plt.xlabel('x (m)')\n",
    "plt.ylabel('h (m NG)')\n",
    "\n",
    "plt.grid()\n",
    "plt.plot(x,h)\n",
    "plt.show()\n"
   ]
  },
  {
   "cell_type": "markdown",
   "metadata": {},
   "source": [
    "### Question 2.b\n",
    "\n",
    "Dans le cas où la recharge est nulle, quel est le débit transitant au sein de l'aquifère pour un front d'écoulement unitaire $W=1$ mètre?"
   ]
  },
  {
   "cell_type": "markdown",
   "metadata": {},
   "source": [
    "- Débit transitant au sein de l'aquifère\n",
    "\n",
    "Equation de Darcy:\n",
    "$$\n",
    "q = -KWh\\frac{dh}{dx}\n",
    "$$\n",
    "\n",
    "Après ré-arrangement pour intégration:\n",
    "$$\n",
    "qdx = -KWhdh\n",
    "$$\n",
    "\n",
    "Et pour les bornes\n",
    "- $ h = h_0 $ pour $ x = 0 $ \n",
    "- $ h = h_L $ pour $ x = L $\n",
    "\n",
    "$$\n",
    "\\int_{0}^{L} {q}\\mathrm{d}x = \\int_{h_0}^{h_{L}} {-KWh}\\mathrm{d}h\n",
    "$$\n",
    "\n",
    "$$\n",
    "\\left[q\\right]_0^L = -{KW} \\left[\\frac{h^2}{2} \\right]_0^L\n",
    "$$\n",
    "\n",
    "$$\n",
    "qL  = -KW \\left({\\frac{h^2_{L} - h^2_0}{2}} \\right)\n",
    "$$\n",
    "\n",
    "$$\n",
    "q  = - \\frac{KW}{2L} \\left({h^2_{L} - h^2_0} \\right)\n",
    "$$\n",
    "\n"
   ]
  },
  {
   "cell_type": "code",
   "execution_count": 1,
   "metadata": {},
   "outputs": [
    {
     "name": "stdout",
     "output_type": "stream",
     "text": [
      "Le débit transitant au sein de l aquifère à lexutoire est Q = 1.51 m3/jour\n"
     ]
    }
   ],
   "source": [
    "import numpy as np\n",
    "import scipy.special as sp\n",
    "import matplotlib.pyplot as plt\n",
    "\n",
    "K = 1e-4*86400 #m/j\n",
    "W= 1 #m\n",
    "h0 = 20 #mNG\n",
    "hL = 15 #mNG\n",
    "N =  -0 #m H2O\n",
    "L = 500 #m\n",
    "\n",
    "qex = -(K*W/(2*L))*(hL ** 2 - h0 ** 2)\n",
    "\n",
    "print('Le débit transitant au sein de l'' aquifère à l''exutoire est Q = {:.3g} m3/jour'.format(qex))\n",
    "\n"
   ]
  },
  {
   "cell_type": "code",
   "execution_count": null,
   "metadata": {},
   "outputs": [],
   "source": []
  },
  {
   "cell_type": "markdown",
   "metadata": {},
   "source": [
    "### RECHARGE DEPUIS UN BASSIN\n",
    "\n",
    "## Solution de Hantush\n",
    "$$\n",
    "\\begin{aligned}\n",
    "& h^2-h_i^2=(w / 2 K)(v t)\\left\\{S^*\\left(\\frac{l+x}{\\sqrt{4 v t}}, \\frac{a+y}{\\sqrt{4 v t}}\\right)+S^*\\left(\\frac{l+x}{\\sqrt{4 v t}}, \\frac{a-y}{\\sqrt{4 v t}}\\right)+\\right. \\\\\n",
    "& \\left.\\quad S^*\\left(\\frac{l-x}{\\sqrt{4 v t}}, \\frac{a+y}{\\sqrt{4 v t}}\\right)+S^*\\left(\\frac{l-x}{\\sqrt{4 v t}}, \\frac{a-y}{\\sqrt{4 v t}}\\right)\\right\\} \\\\\n",
    "& \\text { avec } S^*(\\alpha, \\beta)=\\int_0^1 \\operatorname{erf}\\left(\\frac{\\alpha}{\\sqrt{\\tau}}\\right) \\operatorname{erf}\\left(\\frac{\\beta}{\\sqrt{\\tau}}\\right) d \\tau\n",
    "\\end{aligned}\n",
    "$$\n",
    "\n",
    "<figure>\n",
    "  <IMG SRC=\"hantush_temp.png\" WIDTH=400 ALIGN=\"left\"> <IMG SRC=\"hantush_mounding.png\" WIDTH=400 ALIGN=\"center\">\n",
    "</figure>\n",
    "(d'après Hantush, M.S. (1967). Growth and decay of groundwater-mounds in response to uniform percolation. Water Resources Research, 3(1):227-234)"
   ]
  },
  {
   "cell_type": "code",
   "execution_count": 8,
   "metadata": {},
   "outputs": [
    {
     "name": "stdout",
     "output_type": "stream",
     "text": [
      "calc S* =  0.2432806637856301 valeur abaque S* = 0.2433\n"
     ]
    },
    {
     "data": {
      "image/png": "[encoded data removed]",
      "text/plain": [
       "<Figure size 432x288 with 1 Axes>"
      ]
     },
     "metadata": {
      "needs_background": "light"
     },
     "output_type": "display_data"
    },
    {
     "name": "stdout",
     "output_type": "stream",
     "text": [
      "100.0\n"
     ]
    }
   ],
   "source": [
    "import numpy as np\n",
    "import pandas as pd\n",
    "import scipy.special as sp\n",
    "import math as math\n",
    "import matplotlib.pyplot as plt\n",
    "from scipy.integrate import quad\n",
    "\n",
    "# exemple pour verif des calculs: https://inowas.com/tools/t02-groundwater-mounding-calculator/\n",
    "\n",
    "hi = 35#charge initiale (L)\n",
    "# h = # charge au cours du temps à x (L)  ==> A calculer !!!\n",
    "w = 0.05#taux de recharge (infiltration) (L/T)\n",
    "K = 2#cond hydr (L/T)\n",
    "b = 6#épaisseur moyenne aquifère (L)\n",
    "Sy = 0.12#capacité spécifique (-)\n",
    "t = 10#temps écoulé depuis début infiltration (T)\n",
    "l = 30#demilongueur du bassin d'infiltration (L)\n",
    "a = 10#demilargeur du bassin d'infiltration (L)\n",
    "#x = 0#distance au centre du bassin selon x (L)\n",
    "#y = 0#distance au centre du bassin selon y (L)\n",
    "D = K*b/Sy    #diffusivité (L2/T)\n",
    "\n",
    "\n",
    "# calcul de la fonction S*(alpha,beta)\n",
    "\n",
    "def Shantush(tau,alpha,beta):\n",
    "    return sp.erf(alpha/np.sqrt(tau)) * sp.erf(beta/np.sqrt(tau))\n",
    "\n",
    "#verif fonction HANTUSH\n",
    "alpha = 0.3\n",
    "beta = 0.22\n",
    "Stest = quad(Shantush, 0, 1, args=(alpha,beta))\n",
    "print(\"calc S* = \", Stest[0], \"valeur abaque S* = 0.2433\")\n",
    "\n",
    "\n",
    "coupe = np.arange(0,36,1)\n",
    "y = 0\n",
    "h = []\n",
    "for x in coupe:\n",
    "    dum1 = quad(Shantush, 0, 1, args=((l+x)/(np.sqrt(4*D*t)),(a+y)/(np.sqrt(4*D*t))))\n",
    "    dum2 = quad(Shantush, 0, 1, args=((l+x)/(np.sqrt(4*D*t)),(a-y)/(np.sqrt(4*D*t))))\n",
    "    dum3 = quad(Shantush, 0, 1, args=((l-x)/(np.sqrt(4*D*t)),(a+y)/(np.sqrt(4*D*t))))\n",
    "    dum4 = quad(Shantush, 0, 1, args=((l-x)/(np.sqrt(4*D*t)),(a-y)/(np.sqrt(4*D*t))))\n",
    "    h.append(np.sqrt((w/2/K)*D*t*(dum1[0]+dum2[0]+dum3[0]+dum4[0]) + hi**2) )\n",
    "\n",
    "h = np.array(h)\n",
    "delta = h-hi\n",
    "plt.plot(coupe,delta)\n",
    "plt.show()\n",
    "print(D)"
   ]
  },
  {
   "cell_type": "code",
   "execution_count": null,
   "metadata": {},
   "outputs": [],
   "source": []
  },
  {
   "cell_type": "code",
   "execution_count": null,
   "metadata": {},
   "outputs": [],
   "source": []
  }
 ],
 "metadata": {
  "kernelspec": {
   "display_name": "Python 3",
   "language": "python",
   "name": "python3"
  },
  "language_info": {
   "codemirror_mode": {
    "name": "ipython",
    "version": 3
   },
   "file_extension": ".py",
   "mimetype": "text/x-python",
   "name": "python",
   "nbconvert_exporter": "python",
   "pygments_lexer": "ipython3",
   "version": "3.8.3"
  }
 },
 "nbformat": 4,
 "nbformat_minor": 4
}
