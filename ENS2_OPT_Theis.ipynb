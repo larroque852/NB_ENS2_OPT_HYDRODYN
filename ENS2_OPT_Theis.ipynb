{
 "cells": [
  {
   "cell_type": "markdown",
   "metadata": {},
   "source": [
    "# ESSAIS DE NAPPE - RESOLUTION DU PROBLEME INVERSE - METHODE DE THEIS"
   ]
  },
  {
   "cell_type": "markdown",
   "metadata": {},
   "source": [
    "*Préambule: une partie de ce Notebook est issue et modifiée du cours \"Transient Groundwater Flow Short Course (Module 3 at UNESCO-IHE, Delft, Netherlands)\" construit par Theo Olsthoorn, 08-Jan-2018 et du \"Guide des essais de pompage et leurs interprétations\" par R.P. Chapuis, 2007*\n",
    "\n",
    "Les essais de nappe sont réalisés pour obtenir les propriétés hydrodynamiques (transmissivité et coefficient d'emmagasinnement) de l'aquifère. Cette détermination est basée sur l'exploitation des données obtenues lors de la réalisation d'un pompage d'essai sur le site de caractérisation. Cette approche constitue la résolution du problème inverse en hydrogéologie.\n",
    "\n",
    "La réalisation de ce type de test nécessite a minima d'enregistrer sur un ou plusieurs ouvrages (cf. vidéo ci-après):\n",
    "- le rabattement au cours du temps (la différence entre la hauteur piézométrique au repos dans l'ouvrage et la durant le pompage)  aux piézomètres d'observation;\n",
    "- le débit d'exploitation au puits de pompage.\n",
    "\n",
    "L'interprétation de l'essai de nappe en nappe captive est basée sur l'exploitation de la solution de Theis à l'équation de diffusivité. L'utilisation a minima d'un piézomètre d'observation peut être complétée par d'autres piézomètres afin de compléter l'estimation des paramètres de l'aquifère et avoir une idée notamment de son hétérogénéïté.\n",
    "\n",
    "A la fin de la partie de terrain, on doit disposer du jeu de données suivant:\n",
    "- valeur du débit (supposé constant) au puits de pompage;\n",
    "- valeur du rabattement au cours du temps $ s = f(t)$ à la distance $r$ du piézomètre et éventuellement aux autres piézomètres d'observation.\n",
    "\n",
    "A l'issue de l'interprétation du test, on obtient les paramètres hydrodynamiques de l'aquifère (transmissivité T et coefficient d'emmagasinnement S) et éventuellement des renseignements complémentaires sur les conditions de gisement de la nappe (effets de limite, drainance,...)."
   ]
  },
  {
   "cell_type": "markdown",
   "metadata": {},
   "source": [
    "## Equation de diffusivité en nappe captive\n",
    "\n",
    "$$\\frac{\\partial^2 h}{\\partial r^2} + \\frac{1}{r}\\frac{\\partial h}{\\partial r} = \\frac{S}{Kb} \\times \\frac{\\partial h}{\\partial t}$$\n",
    "\n",
    "## Solution de Theis \n",
    "\n",
    "### Hypothèses:\n",
    "- Aquifère reposant sur un couche imperméable\n",
    "- Formations géologiques homogènes, isotropes, horizontales et d'extension horizontale infinie\n",
    "- Surface piézométrique initialement horizontale\n",
    "- Loi de Darcy valide\n",
    "- Puits parfait et de diamètre négligeable\n",
    "- Eau provient uniquement de la décompression de l'aquifère\n",
    "\n",
    "### Equation de Theis \n",
    "En réalisation le changement de variable suivant:\n",
    "$$\n",
    "\tu = \\frac{r^2S}{4Kbt}\n",
    "$$\n",
    "\n",
    "La résolution de l'équation de diffusivité pour les hypothèses (conditions limites) précédentes amène la solution de Theis\n",
    "\n",
    "$$\n",
    "    s = \\frac{Q}{4 \\pi T} \\int_{u}^{\\infty} {\\frac{e^{-y}}{y}} \\mathrm{d}y\n",
    "$$\n",
    "\n",
    "### Fonction de Theis\n",
    "Cette résolution introduit la fonction de Theis  $W(u)$ définie par analogie à l'équation précédente:\n",
    "\n",
    "$$\n",
    "\tW(u) = \\int_{u}^{\\infty} {\\frac{e^{-y}}{y}} \\mathrm{d}y\n",
    "$$\n",
    "\n",
    "La fonction $W(u)$ est connue également en mathématiques sous le terme de fonction Exponentielle Intégrale $E_i$:\n",
    "\n",
    "$$\n",
    "\tE_i = \\int_{-\\infty}^{u} {\\frac{e^{y}}{y}} \\mathrm{d}y\n",
    "$$\n",
    "Une fonction alternative $E_1$ peut être définie, de la même famille que la fonction exponentielle intégrale $E_i$ telle que:\n",
    "\n",
    "$$\n",
    "    E_1(x) = -E_i(-x) = \\int_{x}^{\\infty} {\\frac{e^{-y}}{y}} \\mathrm{d}y = W(u)\n",
    "$$\n"
   ]
  },
  {
   "cell_type": "markdown",
   "metadata": {},
   "source": [
    "## 1. Solution de Theis: fonctionnement élémentaire"
   ]
  },
  {
   "cell_type": "markdown",
   "metadata": {},
   "source": [
    "### Question 1.a\n",
    "A partir du tableau de valeurs de la fonction exponentielle intégrale de Theis et de l'abaque correspondante ($W(u) = f(\\frac{1}{u})$ ou $W(u) = f(\\frac{1}{u})$), se familiariser avec la lecture des variables $u$ et $W(u)$.\n",
    "\n",
    "<figure>\n",
    "  <IMG SRC=\"ENS2_Hydrodyn_8.png\" WIDTH=800 ALIGN=\"left\">\n",
    "</figure>"
   ]
  },
  {
   "cell_type": "markdown",
   "metadata": {},
   "source": [
    "### La fonction de Theis dans un environnement \"scientifique\", comment obtenir les valeurs utiles à l'hydrogéologue?"
   ]
  },
  {
   "cell_type": "markdown",
   "metadata": {},
   "source": [
    "#### Expression de la fonction de Theis à partir d'un développement en série de Taylor\n",
    "\n",
    "La fonction de Theis peut également être exprimée selon un développement en série de Taylor. On obtient une formulation en série infinie de puissance:\n",
    "\n",
    "$$\n",
    "    W(u) = -\\gamma - ln(u) - \\sum_{n=1}^{\\infty} {\\frac{(-1)^n u^n}{n(n)!}}\n",
    "$$\n",
    "\n",
    "soit sous la forme développée\n",
    "\n",
    "$$\n",
    "    W(u) = -\\gamma - ln(u) + u -\\frac{u^2}{2.2!} + \\frac{u^3}{3.3!} - \\frac{u^4}{4.4!} + - \\frac{u^5}{5.5!} - \\cdots\n",
    "$$\n",
    "\n",
    "avec $\\gamma = 0.5773$ (nombre d'Euler).\n",
    "\n",
    "Cette expression corresponds à une série infinie convergente. $W(u)$ peut être approché en tronquant la série infinie après un nombre de terme suffisant\n",
    "\n",
    "Par exemple, en tronquant la série au 4ème terme:\n",
    "$$\n",
    "    W(u) = -\\gamma - ln(u) + u -\\frac{u^2}{2.2!} + \\frac{u^3}{3.3!} - \\frac{u^4}{4.4!}\n",
    "$$\n"
   ]
  },
  {
   "cell_type": "code",
   "execution_count": 1,
   "metadata": {},
   "outputs": [
    {
     "name": "stdout",
     "output_type": "stream",
     "text": [
      "     u  /  W(u) série tronquée  / W(u) Theis\n",
      "4.000e+00 -1.075e+00 3.779e-03\n",
      "4.000e-01 7.024e-01 7.024e-01\n",
      "4.000e-02 2.681e+00 2.681e+00\n",
      "4.000e-03 4.948e+00 4.948e+00\n",
      "4.000e-04 7.247e+00 7.247e+00\n",
      "4.000e-05 9.549e+00 9.549e+00\n",
      "4.000e-06 1.185e+01 1.185e+01\n",
      "4.000e-07 1.415e+01 1.415e+01\n",
      "4.000e-08 1.646e+01 1.646e+01\n",
      "4.000e-09 1.876e+01 1.876e+01\n",
      "4.000e-10 2.106e+01 2.106e+01\n"
     ]
    }
   ],
   "source": [
    "# Développement de Taylor\n",
    "import numpy as np\n",
    "import scipy.special as sp\n",
    "import matplotlib.pyplot as plt\n",
    "\n",
    "U = 4.0 * 10** -np.arange(11.)   # generates values 4, 4e-1, 4e-2 .. 4e-10\n",
    "print(\"{:>10s} {:>10s} {:>10s}\".format('u  / ', 'W(u) série tronquée  /', 'W(u) Theis'))\n",
    "for u in U:\n",
    "    W = sp.exp1(u)\n",
    "    w = -0.5772 -np.log(u) + u - ((u)**2)/(2*sp.factorial(2)) + ((u)**3)/(3*sp.factorial(3))- ((u)**4)/(4*sp.factorial(4))\n",
    "    print(\"{:.3e} {:.3e} {:.3e}\".format(u, w, W))"
   ]
  },
  {
   "cell_type": "markdown",
   "metadata": {},
   "source": [
    "#### Calcul de W(u) à partir des fonctionnalités intégrées de Python\n",
    "\n",
    "La fonction exponetielle intégrale est implémentée dans la bibliothèque \"Scipy.Special\" sous la forme \"exp1\".\n",
    "On peut directement calculer la valeur $W(u$) telle que:\n",
    "$$\n",
    "    W(u) = \\int_{u}^{\\infty} {\\frac{e^{-y}}{y}} \\mathrm{d}y = exp1(u)\n",
    "$$  "
   ]
  },
  {
   "cell_type": "code",
   "execution_count": 2,
   "metadata": {},
   "outputs": [
    {
     "name": "stdout",
     "output_type": "stream",
     "text": [
      "exp1(u)    = 4.679451259333019 , module scipy.special\n"
     ]
    }
   ],
   "source": [
    "# fonction intégrée Python\n",
    "import numpy as np\n",
    "import scipy.special as sp\n",
    "import matplotlib.pyplot as plt\n",
    "\n",
    "u = 5.24e-3  # choisir une valeur de u\n",
    "print('exp1(u)    =', sp.exp1(u),', module scipy.special')"
   ]
  },
  {
   "cell_type": "markdown",
   "metadata": {},
   "source": [
    "#### Calcul de W(u) à partir d'une intégration numérique\n",
    "\n",
    "Comme toute fonction mathématique continue et dérivable, la fonction de Theis peut faire l'objet d'une intégration numérique afin d'estimer la valeur de $W(u)$ pour toute valeur de borne particulière $u$.\n",
    "\n",
    "Afin de réaliser cette intégration, il est nécessaire de réécrire la forme continue de la fonction de Theis à l'aide d'une formulation discontinue:\n",
    "$$\n",
    "    W(u) = \\intop_u^{-\\infty} \\frac {e^{-y}} y dy \\approx \\sum_0^N \\frac {e^{-y_i}} {y_i} \\Delta y_i\n",
    "$$\n",
    "\n",
    "où $y_0 = u_0$ et $N$ est un entier suffisamment grand.\n",
    "\n",
    "Le package numpy permet de réaliser une intégration numérique, en définissant préalablement la fonction à intégrer comme une fonction Python."
   ]
  },
  {
   "cell_type": "code",
   "execution_count": 3,
   "metadata": {},
   "outputs": [
    {
     "name": "stdout",
     "output_type": "stream",
     "text": [
      "Wint(u)    = 4.679551433747345 , obtenu par intégration numérique\n"
     ]
    }
   ],
   "source": [
    "# intégration numérique\n",
    "\n",
    "import numpy as np\n",
    "import scipy.special as sp\n",
    "import matplotlib.pyplot as plt\n",
    "\n",
    "\n",
    "def Wint(u):\n",
    "    '''Renvoie la valeur de la fonction de Theis obtenue par intégration numérique'''\n",
    "    LOG10INF = 2 # sufficient as exp(-100) is in the order of 1e-50\n",
    "    y = np.logspace(np.log10(u), LOG10INF, num=1000)\n",
    "    arg = np.exp(-y) / y\n",
    "    dy = np.diff(y)\n",
    "    w = np.sum(0.5 * (arg[:-1] + arg[1:]) * dy)\n",
    "    return w\n",
    "\n",
    "u = 5.24e-3  # choisir une valeur de u\n",
    "print('Wint(u)    =', Wint(u),', obtenu par intégration numérique')"
   ]
  },
  {
   "cell_type": "markdown",
   "metadata": {},
   "source": [
    "#### Représentation graphique de la fonction W(u)"
   ]
  },
  {
   "cell_type": "code",
   "execution_count": 29,
   "metadata": {},
   "outputs": [
    {
     "data": {
      "image/png": "[encoded data removed]",
      "text/plain": [
       "<Figure size 432x288 with 1 Axes>"
      ]
     },
     "metadata": {
      "needs_background": "light"
     },
     "output_type": "display_data"
    }
   ],
   "source": [
    "# Illustration\n",
    "# Representation graphique de la fonction de Theis\n",
    "\n",
    "import numpy as np\n",
    "import scipy.special as sp\n",
    "import matplotlib.pyplot as plt\n",
    "\n",
    "# calcul de u avec echantillonnage log10\n",
    "u = np.logspace(-5, 1, 61)\n",
    "\n",
    "# paramétrage de la figure W(u)\n",
    "plt.title('Courbe type de Theis')\n",
    "plt.xlabel('1/u ou u')\n",
    "plt.ylabel('W(u)')\n",
    "plt.xscale('log')\n",
    "plt.yscale('log')\n",
    "plt.grid()\n",
    "\n",
    "plt.plot(1/u, sp.exp1(u),label='W(u) versus 1/u') # plot well function versus 1/u\n",
    "plt.plot(u, sp.exp1(u),label='W(u) versus u') # plot well function versus u\n",
    "plt.legend(loc='best')\n",
    "\n",
    "plt.show()"
   ]
  },
  {
   "cell_type": "markdown",
   "metadata": {},
   "source": [
    "## 1. EXERCICE 1 SUJET 2025\n",
    "\n",
    "cf. énoncé MOODLE"
   ]
  },
  {
   "cell_type": "code",
   "execution_count": 2,
   "metadata": {},
   "outputs": [
    {
     "data": {
      "image/png": "[encoded data removed]",
      "text/plain": [
       "<Figure size 432x288 with 1 Axes>"
      ]
     },
     "metadata": {
      "image/png": {
       "height": 263,
       "width": 385
      },
      "needs_background": "light"
     },
     "output_type": "display_data"
    }
   ],
   "source": [
    "\n",
    "import numpy as np\n",
    "import pandas as pd\n",
    "import scipy.special as sp\n",
    "import math as math\n",
    "import matplotlib.pyplot as plt\n",
    "#bibliotheque d'optimisation (on a besoin que de la fonction curve_fit)\n",
    "from scipy.optimize import curve_fit\n",
    "\n",
    "%config InlineBackend.figure_format = 'retina'\n",
    "\n",
    "##############################################\n",
    "# ESSAI NAPPE TD EXO 1\n",
    "##############################################\n",
    "#lecture donnees test sur serveur GITHUB\n",
    "# si ontravaille en local, changer le chemin d'acces au fichier\n",
    "\n",
    "df_file = pd.read_table('https://raw.githubusercontent.com/larroque852/NB_ENS2_OPT_HYDRODYN/main/ENS2_HYD_TD_EXO_CJ.csv',skiprows=1,\n",
    "                        delimiter=',', names = ['t_min','s1_m','s2_m','s3_m'])\n",
    "\n",
    "# une représentation graphique brute\n",
    "\n",
    "ax=df_file.plot(kind='scatter',x='t_min',y='s1_m', logx = True,color='red')\n",
    "ax.scatter(df_file['t_min'],df_file['s2_m'], color='blue')\n",
    "ax.scatter(df_file['t_min'],df_file['s3_m'], color='green')\n",
    "ax.set_xlabel(\"Rabattement (m)\")\n",
    "ax.set_ylabel(\"Temps (min)\")\n",
    "plt.show()\n",
    "\n",
    "\n",
    "# définition du modèle de Theis\n",
    "# on doit programmer une fonction qui sera de la forme: s = f_theis(t, T, S)\n",
    "# avec T et S les parametres hydrodynamiques que l'on cherche\n",
    "\n",
    "\n",
    "\n",
    "#variables du test\n",
    "\n",
    "\n",
    "\n",
    "#affectation des variables mesurées (t, s_mes) en enlevant si nécessaire des données\n",
    "#jugees non necessaires\n",
    "\n",
    "\n",
    "#Utilisation de la fonction d'optimisation curve_fit() et f_theis \n",
    "#pour determiner T et S\n",
    "\n",
    "best_vals, covar= curve_fit(theis, t_mes, s_mes, Tini, Sini)\n",
    "\n",
    "#resultats\n",
    "\n",
    "Tcalc = best_vals[0]\n",
    "Scalc = best_vals[1]\n",
    "print('Resultats ajustement:')\n",
    "print('T (r = 61 m) = {:.1e} m2/min'.format(Tcalc))\n",
    "print('S (r = 61 m) = {:.1e} (-)'.format(Scalc))\n",
    "\n",
    "\n"
   ]
  },
  {
   "cell_type": "markdown",
   "metadata": {},
   "source": [
    "\n",
    "## Tutorial inside: ajustement d'un modèle à des données observées\n",
    "\n",
    "L'ajustement d'un modèle est un problème d'optimisation qui permet à partir d'une fonction paramètrique connue (*le modèle*) de déterminer ses paramètres afin de restituer au mieux un jeu de données (*observations*).\n",
    "On peut représenter cette méthode simplement en 2 dimensions, avec un domaine défini par des *entrées* et des *sorties*. Les abscisses sont les données indépendanes d'entrée de la fonction modèle. Les ordonnées représentent les données dépendantes de sortie de la fonction modèle.\n",
    "On a collecté des données expérimentales/mesurées d'entrée/sortie d'un système que l'on suspece fonctionner selon le modèle pré-identifié.\n",
    "L'ajustement d'un modèle consiste à choisir un type de modèle, puis estimer les paramètres adaptés de manière à restituer au mieux les valeurs observées.\n",
    "\n",
    "Le package SciPy dans sa librairie d'optimisation '*optimize*' procure une fonction *Curve_fit* qui permet l'ajustement d'un modèle défini par une fonction paramétrique quelconque à des données expérimentales ou mesurées, et d'estimer les paramètres optimaux minimisant l'écart entre valeurs modélisées et valeurs mesurées.\n",
    "\n",
    "La procédure est la suivante:\n",
    "- mise en forme des données expérimentales/observées en identifiant variables dépendantes et indépendantes\n",
    "- identification du modèle théorique susceptible de resituer le comportement des données expérimentale/observées\n",
    "- programmation d'une fonction '*modèle*' comprenant les paramètres à ajuster\n",
    "- estimation des paramètres optimums\n",
    "- évaluation de la qualité de l'ajustement et des incertitudes associées (non abordé ici)\n",
    "\n",
    "Afin de se familiariser avec cette démarche à l'aide des outils disponibles dans Python, on se propose de réaliser un exercice.\n",
    "Cet exercice est directement adapté du tutorial \"*Curve fitting with Python*\" disponible à l'adresse suivante:\n",
    "\n",
    "https://machinelearningmastery.com/curve-fitting-with-python/\n",
    "\n",
    "L'objectif est de se familiariser avec les commandes principales permettant de résoudre ce type de problématique.\n",
    "\n",
    "Les différents points sont abordés:\n",
    "- chargement et représentation graphique des données observées\n",
    "- choix d'un modèle linéaire et ajustement des paramètres optimums\n",
    "- choix d'un modèle polynomial et ajustement des paramètres optimums"
   ]
  },
  {
   "cell_type": "code",
   "execution_count": 49,
   "metadata": {},
   "outputs": [
    {
     "data": {
      "image/png": "[encoded data removed]",
      "text/plain": [
       "<Figure size 432x288 with 1 Axes>"
      ]
     },
     "metadata": {
      "needs_background": "light"
     },
     "output_type": "display_data"
    }
   ],
   "source": [
    "import numpy as np\n",
    "import scipy.special as sp\n",
    "import matplotlib.pyplot as plt\n",
    "\n",
    "#---------------------------------------------------------------------\n",
    "# chargement et représentation graphique des données observées\n",
    "#---------------------------------------------------------------------\n",
    "\n",
    "# plot \"Population\" vs \"Employed\"\n",
    "from pandas import read_csv\n",
    "from matplotlib import pyplot\n",
    "# load the dataset\n",
    "data = np.genfromtxt('data_tuto.csv',delimiter=',')\n",
    "# choose the input and output variables\n",
    "x, y = data[:, 1], data[:, 2]\n",
    "# plot input vs output\n",
    "pyplot.scatter(x, y)\n",
    "plt.xlabel('variable independante input x')\n",
    "plt.ylabel('variable dépendante output y')\n",
    "pyplot.show()\n",
    "\n"
   ]
  },
  {
   "cell_type": "code",
   "execution_count": 51,
   "metadata": {},
   "outputs": [
    {
     "name": "stdout",
     "output_type": "stream",
     "text": [
      "y = 0.48488 * x + 8.38067\n"
     ]
    },
    {
     "data": {
      "image/png": "[encoded data removed]",
      "text/plain": [
       "<Figure size 432x288 with 1 Axes>"
      ]
     },
     "metadata": {
      "needs_background": "light"
     },
     "output_type": "display_data"
    }
   ],
   "source": [
    "#---------------------------------------------------------------------\n",
    "# identification du modèle théorique susceptible de restituer le comportement des données expérimentale/observées\n",
    "# modèle LINEAIRE\n",
    "#---------------------------------------------------------------------\n",
    "\n",
    "# define the true objective function (\"modèle\")\n",
    "def objective(x, a, b):\n",
    "\treturn a * x + b\n",
    "\n",
    "# curve fit\n",
    "popt, _ = curve_fit(objective, x, y)\n",
    "# summarize the parameter values\n",
    "a, b = popt\n",
    "print('y = %.5f * x + %.5f' % (a, b))\n",
    "# plot input vs output\n",
    "pyplot.scatter(x, y)\n",
    "# define a sequence of inputs between the smallest and largest known inputs\n",
    "x_line = np.arange(min(x), max(x), 1)\n",
    "# calculate the output for the range\n",
    "y_line = objective(x_line, a, b)\n",
    "# create a line plot for the mapping function\n",
    "pyplot.plot(x_line, y_line, '--', color='red')\n",
    "pyplot.show()\n",
    "\n"
   ]
  },
  {
   "cell_type": "code",
   "execution_count": 52,
   "metadata": {},
   "outputs": [
    {
     "name": "stdout",
     "output_type": "stream",
     "text": [
      "y = -0.01170 * x^2 + 3.25443 * x + -155.02783\n"
     ]
    },
    {
     "data": {
      "image/png": "[encoded data removed]",
      "text/plain": [
       "<Figure size 432x288 with 1 Axes>"
      ]
     },
     "metadata": {
      "needs_background": "light"
     },
     "output_type": "display_data"
    }
   ],
   "source": [
    "#---------------------------------------------------------------------\n",
    "# identification du modèle théorique susceptible de restituer le comportement des données expérimentale/observées\n",
    "# modèle POLYNOMIAL\n",
    "#---------------------------------------------------------------------\n",
    "\n",
    "# define the true objective function (\"modèle\")\n",
    "def objective(x, a, b, c):\n",
    "\treturn a * x ** 2 + b * x + c\n",
    "\n",
    "# curve fit\n",
    "popt, _ = curve_fit(objective, x, y)\n",
    "# summarize the parameter values\n",
    "a, b, c = popt\n",
    "print('y = %.5f * x^2 + %.5f * x + %.5f' % (a, b, c))\n",
    "# plot input vs output\n",
    "pyplot.scatter(x, y)\n",
    "# define a sequence of inputs between the smallest and largest known inputs\n",
    "x_line = np.arange(min(x), max(x), 1)\n",
    "# calculate the output for the range\n",
    "y_line = objective(x_line, a, b, c)\n",
    "# create a line plot for the mapping function\n",
    "pyplot.plot(x_line, y_line, '--', color='red')\n",
    "pyplot.show()\n",
    "\n"
   ]
  },
  {
   "cell_type": "markdown",
   "metadata": {},
   "source": [
    "## Bibliographie\n",
    "\n",
    "Kruseman, G.P. & N.D. de Ridder (1994) Pumping test analysis. Disponible sur Internet."
   ]
  }
 ],
 "metadata": {
  "kernelspec": {
   "display_name": "Python 3",
   "language": "python",
   "name": "python3"
  },
  "language_info": {
   "codemirror_mode": {
    "name": "ipython",
    "version": 3
   },
   "file_extension": ".py",
   "mimetype": "text/x-python",
   "name": "python",
   "nbconvert_exporter": "python",
   "pygments_lexer": "ipython3",
   "version": "3.8.3"
  }
 },
 "nbformat": 4,
 "nbformat_minor": 4
}
