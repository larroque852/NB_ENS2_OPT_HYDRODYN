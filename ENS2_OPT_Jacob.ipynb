{
 "cells": [
  {
   "cell_type": "markdown",
   "metadata": {},
   "source": [
    "# ESSAIS DE NAPPE - RESOLUTION DU PROBLEME INVERSE - METHODE DE COOPER-JACOB\n",
    "\n",
    "# Solutions applicables en nappe captive d'extension infinie\n",
    "\n",
    " ENSEGID ENS2 OPT GEORESSOURCES / HYDROSCIENCES - Hydrodynamique souterraine"
   ]
  },
  {
   "cell_type": "markdown",
   "metadata": {},
   "source": [
    "\n",
    "\n",
    "Les essais de nappe sont réalisés pour obtenir les propriétés hydrodynamiques (transmissivité et coefficient d'emmagasinnement) de l'aquifère. Cette détermination est basée sur l'exploitation des données obtenues lors de la réalisation d'un pompage d'essai sur le site de caractérisation. Cette approche constitue la résolution du problème inverse en hydrogéologie.\n",
    "\n",
    "La réalisation de ce type de test nécessite a minima d'enregistrer sur un ou plusieurs ouvrages (cf. vidéo ci-après):\n",
    "- le rabattement au cours du temps (la différence entre la hauteur piézométrique au repos dans l'ouvrage et la durant le pompage)  aux piézomètres d'observation;\n",
    "- le débit d'exploitation au puits de pompage.\n",
    "\n",
    "L'interprétation de l'essai de nappe en nappe captive est basée sur l'exploitation de la solution de Theis à l'équation de diffusivité. L'utilisation a minima d'un piézomètre d'observation peut être complétée par d'autres piézomètres afin de compléter l'estimation des paramètres de l'aquifère et avoir une idée notamment de son hétérogénéïté.\n",
    "\n",
    "A la fin de la partie de terrain, on doit disposer du jeu de données suivant:\n",
    "- valeur du débit (supposé constant) au puits de pompage;\n",
    "- valeur du rabattement au cours du temps $ s = f(t)$ à la distance $r$ du piézomètre et éventuellement aux autres piézomètres d'observation.\n",
    "\n",
    "A l'issue de l'interprétation du test, on obtient les paramètres hydrodynamiques de l'aquifère (transmissivité T et coefficient d'emmagasinnement S) et éventuellement des renseignements complémentaires sur les conditions de gisement de la nappe (effets de limite, drainance,...)."
   ]
  },
  {
   "cell_type": "code",
   "execution_count": 1,
   "metadata": {},
   "outputs": [
    {
     "data": {
      "image/jpeg": "[encoded data removed]",
      "text/html": [
       "\n",
       "        <iframe\n",
       "            width=\"400\"\n",
       "            height=\"300\"\n",
       "            src=\"https://www.youtube.com/embed/0rRd_DqilwI\"\n",
       "            frameborder=\"0\"\n",
       "            allowfullscreen\n",
       "        ></iframe>\n",
       "        "
      ],
      "text/plain": [
       "<IPython.lib.display.YouTubeVideo at 0x7f9f139fa970>"
      ]
     },
     "execution_count": 1,
     "metadata": {},
     "output_type": "execute_result"
    }
   ],
   "source": [
    "from IPython.lib.display import YouTubeVideo\n",
    "YouTubeVideo('0rRd_DqilwI')"
   ]
  },
  {
   "cell_type": "markdown",
   "metadata": {},
   "source": [
    "# Méthode de Cooper-Jacob - Résolution graphique standard \n",
    "\n",
    "La résolution de l'équation de diffusivité pour les hypothèses de Theis amène la solution de Theis:\n",
    "\n",
    "$$\n",
    "    s = \\frac{Q}{4 \\pi T} W(u)\n",
    "$$\n",
    "avec\n",
    "$$\n",
    "\tu = \\frac{r^2S}{4Kbt}\n",
    "$$\n",
    "\n",
    "La fonction de Theis W(u) peut etre obtenue à partir de son développement en série de Taylor (1):\n",
    "\n",
    "$$\n",
    "    W(u) = -\\gamma - ln(u) + u -\\frac{u^2}{2.2!} + \\frac{u^3}{3.3!} - \\frac{u^4}{4.4!} + - \\frac{u^5}{5.5!} - \\cdots\n",
    "$$\n",
    "\n",
    "avec $\\gamma = 0.5773$ (nombre d'Euler).\n",
    "\n",
    "Jacob (1946) puis Jacob et Cooper (1951) proposent l'approximation suivante (2) du développement de Taylor pour la fonction de Theis:\n",
    "\n",
    "$$\n",
    "    W(u) \\approx -\\gamma - ln(u) \n",
    "$$\n",
    "\n",
    "sous condition que $u$ soit suffisamment faible. En pratique:\n",
    "\n",
    "$$\n",
    "u < 1.10^{-2}\n",
    "$$\n",
    "\n",
    "Puisque $u = \\frac{r^2S}{4Tt}$, la formulation de Cooper-Jacob pour la solution de Theis est (3):\n",
    "\n",
    "$$\n",
    "s = \\frac{Q}{4 \\pi T} ln\\left({\\frac{2.25Tt}{r^2S}}\\right)\n",
    "$$\n",
    "\n",
    "ou en exprimant le logarithme en base 10 (4):\n",
    "\n",
    "$$\n",
    "s = \\frac{2.3Q}{4 \\pi T} log\\left({\\frac{2.25Tt}{r^2S}}\\right)\n",
    "$$\n",
    "\n",
    "Cette formulation ne reste applicable que pour $ \\frac{r^2S}{4Tt} < 1.10^{-2}$\n",
    "\n",
    "\n",
    "Puisque $Q$, $T$ et $S$ sont constants, l'évolution du rabattement donné par l'équation (4), enregistré à une distance $r$, selon le logarithme du temps $t$ forme une droite (cf. figure).\n",
    "<figure>\n",
    "  <IMG SRC=\"jacob1.png\" WIDTH=450 ALIGN=\"center\">\n",
    "</figure>\n",
    "    \n",
    "la pente de la droite, calculée sur un cycle log corresponds à (5):\n",
    "    \n",
    "$$\n",
    "\\alpha = \\frac{s_a - s_b}{log (t_a) -log (t_b)} = \\frac{\\Delta s}{log(\\frac{t_a}{t_b})} = \\Delta s\n",
    "$$\n",
    "\n",
    "on a alors par analogie avec l'équation (4) l'expression directe pour $T$ (6):\n",
    "$$\n",
    "T = \\frac{2.3Q}{4 \\pi \\Delta s}\n",
    "$$\n",
    "\n",
    "En prolongeant la droite de la solution de Jacob jusqu'à l'intercept $t_0$ pour lequel $s = 0$, l'équation (4) permet d'écrire (7)\n",
    "$$\n",
    "log\\left({\\frac{2.25Tt_0}{r^2S}}\\right) = 0\n",
    "$$\n",
    "donc (8)\n",
    "$$\n",
    "\\frac{2.25Tt_0}{r^2S} = 1\n",
    "$$\n",
    "et finalement pour le calcul du coefficient d'emmagasinement $S$ (9):\n",
    "$$\n",
    "S = \\frac{2.25Tt_0}{r^2}\n",
    "$$"
   ]
  },
  {
   "cell_type": "markdown",
   "metadata": {},
   "source": [
    "## Procedure pratique d'interprétation par la méthode de Cooper - Jacob\n",
    "Pour un essai de nappe réalisé à débit constant $Q$ suivi à un piézomètre situé à une distance $r$ du forage exploité:\n",
    "1. Reporter les valeurs de $s$ au cours du temps $t$ sur une graphique semi-log (axe des abscisses en log base 10)\n",
    "2. Isoler la portion des données qui corresponds au régime d'écoulement de Theis (forme linéaire en semi-log) et tracer la droite s'ajustant au mieux aux données retenues\n",
    "3. Etendre la droite jusqu'à l'intercept $t_0$ pour $s = 0$\n",
    "4. Calculer la pente de la droite sur un cycle log, en calculant $\\Delta s$ sur un cycle log (rmq: on peut tout à fait calculer la pente sur une portion de droite ne correspondant pas à un cycle log, par la formule classique de la pente d'une droite)\n",
    "5. A partir des valeurs de la pente ou de $\\Delta s$ et de $t_0$, calculer $T$ et $S$\n",
    "6. Vérifier la condition de validité de l'approximation de Cooper-Jacob\n",
    "$$\n",
    "u_1 = \\frac{r^2S}{4Tt_1} < 1.10^{-2}\n",
    "$$\n",
    "avec $t_1$ la valeur minimale des données utilisées pour la régression linéaire. Dans le cas où $u_1 > 1.10^{-2}$, on reprends le calage de la droite théorique en choisissant une borne inférieure $t_2 >t_1$, amenant à un nouveau calcul de $T_2$ et $S_2$ et une nouvelle validation de $u_2$. La procédure est itérative jusqu'à validation, ou abandon de la méthode pour l'interprétation de l'essai.\n",
    "    "
   ]
  },
  {
   "cell_type": "markdown",
   "metadata": {},
   "source": [
    "## 1. Interprétation d’un essai de nappe par la solution de Cooper-Jacob\n",
    "\n",
    "Pour caractériser les propriétés hydrodynamiques d'un aquifère, un essai de nappe est réalisé. Un puits $F$ est pompé au débit de 547 litre/minute durant 12 heures. Les profondeurs sont enregistrées à un piézomètre $P_a$ situé à 8.2 mètres de $F$ (données du sujet / fichier TD_nappe1.csv). Le niveau statique de la nappe est $N_{stat} = -5.32$ mètre/repère.\n",
    "1. Construire le graphique expérimental\t$s = log10(t)$;\n",
    "2. A l'aide de la solution de Cooper-Jacob, déterminer les paramètres hydrodynamiques de l'aquifère (T et S);\n",
    "3. Comparer les résulats obtenus avec les résultats obtenus par l'interprétation à l'aide de la méthode de Theis."
   ]
  },
  {
   "cell_type": "code",
   "execution_count": 54,
   "metadata": {},
   "outputs": [],
   "source": [
    "#Construire le graphique expérimental 𝑠=𝑙𝑜𝑔10(𝑡)\n",
    "\n",
    "import numpy as np\n",
    "import pandas as pd\n",
    "import scipy.special as sp\n",
    "import math as math\n",
    "import matplotlib.pyplot as plt\n",
    "\n",
    "\n",
    "#lecture fichier Github pour Colaboratory on line\n",
    "#utilisation dataframe pour gerer les données\n",
    "\n",
    "df_file = pd.read_table('https://raw.githubusercontent.com/larroque852/NB_ENS2_OPT_HYDRODYN/main/TD_nappe1.csv',delimiter=',')\n",
    "# définition des noms des colonnes\n",
    "df_file.columns= ['temps','prof']\n",
    "df_data = df_file.assign(rab = df_file['prof']-5.32).copy()\n",
    "df_data = df_data.assign(logt = np.log10(df_file['temps']))\n",
    "#df_data.head()\n",
    "\n",
    "\n",
    "#variables de l'essai de nappe\n",
    "\n",
    "\n",
    "# Presentation des donnees experimentales - parametrage de la figure\n",
    "#ax = df_data.plot()\n",
    "#ax.set_xlabel(\" \")\n",
    "#ax.set_ylabel(\" \")\n",
    "#plt.show()\n",
    "\n"
   ]
  },
  {
   "cell_type": "code",
   "execution_count": 55,
   "metadata": {},
   "outputs": [],
   "source": [
    "#selection des points pour jacob en fonction de bornes de temps\n",
    "\n",
    "#exemple pour une extraction des donnees de temps supérieur à X et creation d'un autre dataframe au nom de df_jacob_data\n",
    "#df_jacob_data = df_data[df_data['temps'] > X].copy() # 1 seule borne\n",
    "\n",
    "\n",
    "#representaion graphique des points retenus pour calage droite de CJ\n",
    "\n",
    "\n",
    "#calage Jacob (ajustement linéaire ou polynpome d'ordre 1)\n",
    "#m,b = np.polyfit()\n",
    "\n",
    "#calcul de t0\n",
    "\n",
    "#calcul des parametres T et S de l'aquifère\n",
    "\n",
    "#verification condition de Cooper-Jacob --> 1er point utilisé pour regression\n",
    "\n",
    "#affichage des resultats (t0, T, S, condition de CJ)\n",
    "\n",
    "\n",
    "\n",
    "#affectation du modele de CJ dans le dataframe aux points de temps mesures (pas utile ici)\n",
    "#df_jacob_data= df_jacob_data.assign(smod = (2.3*Q/4/np.pi/T)*np.log10(2.25*T*df_jacob_data['temps']/r**2 /S))\n",
    "\n",
    "#modele cooper jacob pour une plage de temps correspondant à celle de l'essai complet\n",
    "##creation d'un vecteur temps\n",
    "\n",
    "##calcul du modele de CJ\n",
    "\n",
    "\n",
    "#representation graphique données + modele CJ\n",
    "\n"
   ]
  },
  {
   "cell_type": "markdown",
   "metadata": {},
   "source": [
    "## 2. Test de ‘Oude Korendijk, south of Rotterdam, The Netherlands'\n",
    "La description du test est tirée de *Analysis and evaluation of pumping test data - Kruseman and de Ridder pp. 56*:\n",
    "\n",
    "\"The lithological cross-section (figure) of the test site is derived from the borings. The first 18 m below the surface, consisting of clay, peat, and clayey fine sand, form the impermeable confining layer. Between 18 and 25 m below the surface lies the aquifer, which consists of coarse sand with some gravel. The base of the aquifer is formed by fine sandy and clayey sediments, which are considered impermeable.\n",
    "<figure>\n",
    "  <IMG SRC=\"cross_section.png\" WIDTH=500 ALIGN=\"center\">\n",
    "</figure>\n",
    "The well screen was installed over the whole thickness of the aquifer, and piezometers were placed at distances of 0.8, 30, 90, and 215 m from the well, and at different depths. The two piezometers at a depth of 30 m, H30, and H215 showed a drawdown during pumping, from which it could be concluded that the clay layer between 25 and 27 m is not completely impermeable. For our purposes, however, we shall assume that all the water was derived from the aquifer between 18 and 25 m, and that the base is impermeable. The well was pumped at a constant discharge of 9.12 L/s (or 788 m3/d) for nearly 14 hours.\"\n",
    "    \n",
    "1. Construire le graphique expérimental\tlog(s) = log10(t) pour les 3 piézomètres H30, H90 et H215;\n",
    "2. A l'aide de la méthode de Cooper-Jacob, déterminer les paramètres hydrodynamiques de l'aquifère (T et S) pour les piézomètres H30 et H90;\n",
    "3. En étudiant les résultats pour les 3 piézomètres, quelles informations supplémentaires peut on suspecter pour cet aquifère?"
   ]
  },
  {
   "cell_type": "code",
   "execution_count": 56,
   "metadata": {},
   "outputs": [],
   "source": [
    "\n",
    "import numpy as np\n",
    "import pandas as pd\n",
    "import scipy.special as sp\n",
    "import math as math\n",
    "import matplotlib.pyplot as plt\n",
    "\n",
    "#lecture fichier Github pour Colaboratory on line\n",
    "#construction d'un dataframe à partir du fichier Korendijk_data.csv\n",
    "#les colonnes sont [r[m], z[m], t[minutes], s[m]] (cf. fichier initial Korendijk_data.txt)\n",
    "df_file = pd.read_table('https://raw.githubusercontent.com/larroque852/NB_ENS2_OPT_HYDRODYN/main/Korendijk_data.csv',\n",
    "                        delimiter=',', names = ['r_m','z_m','t_min','s_m'])\n",
    "\n",
    "#extraction des donnees par piezometre et creation de colonnes correspondantes\n",
    "df_r30 = df_file[df_file['r_m'] ==30].copy() # donnees piezometre à 30 m\n",
    "df_r90 = df_file[df_file['r_m'] ==90].copy() # donnees piezometre à 90 m\n",
    "#df_r90 = df_r90.reset_index(drop=True) #pour reinitialiser index si necessaire\n",
    "df_r215 = df_file[df_file['r_m'] ==215].copy() # donnees piezometre à 215 m\n",
    "\n",
    "#variables de l'essai de nappe\n",
    "\n",
    "\n",
    "\n",
    "######################################\n",
    "#INTERPRETATION PIEZOMETRE 90 METRES\n",
    "######################################\n",
    "#representation graphique toutes les valeurs terrain\n",
    "\n",
    "\n",
    "# choix valeurs retenues Jacob apres examen des données brutes (figure précédente)\n",
    "\n",
    "\n",
    "#modèle de CJ interprétation droite\n",
    "\n",
    "\n",
    "#calcul de t0\n",
    "\n",
    "#calcul des parametres T et S de l'aquifère\n",
    "\n",
    "#condition de Cooper-Jacob --> 1er point utilisé pour regression\n",
    "\n",
    "#affichage des résultats\n",
    "\n",
    "\n",
    "#r=90 calcul modele jacob sur la duree de l'essai (1000 minutes)\n",
    "\n",
    "\n",
    "#representation graphique données + modele CJ\n",
    "\n"
   ]
  },
  {
   "cell_type": "code",
   "execution_count": 58,
   "metadata": {},
   "outputs": [],
   "source": [
    "#representation graphique toutes les valeurs terrain\n",
    "\n",
    "\n",
    "# choix valeurs retenues Jacob apres examen des données brutes (figure précédente)\n",
    "\n",
    "\n",
    "#modèle de CJ interprétation droite\n",
    "\n",
    "\n",
    "#calcul de t0\n",
    "\n",
    "#calcul des parametres T et S de l'aquifère\n",
    "\n",
    "#condition de Cooper-Jacob --> 1er point utilisé pour regression\n",
    "\n",
    "#affichage des résultats\n",
    "\n",
    "\n",
    "#r=90 calcul modele jacob sur la duree de l'essai (1000 minutes)\n",
    "\n",
    "\n",
    "#representation graphique données + modele CJ\n",
    "\n"
   ]
  },
  {
   "cell_type": "code",
   "execution_count": 57,
   "metadata": {},
   "outputs": [],
   "source": [
    "###################################\n",
    "#PIEZOMETRE 215 METRES\n",
    "###################################\n",
    "#representation graphique toutes les valeurs terrain\n",
    "\n",
    "\n",
    "# choix valeurs retenues Jacob apres examen des données brutes (figure précédente)\n",
    "\n",
    "\n",
    "#modèle de CJ interprétation droite\n",
    "\n",
    "\n",
    "#calcul de t0\n",
    "\n",
    "#calcul des parametres T et S de l'aquifère\n",
    "\n",
    "#condition de Cooper-Jacob --> 1er point utilisé pour regression\n",
    "\n",
    "#affichage des résultats\n",
    "\n",
    "\n",
    "#r=90 calcul modele jacob sur la duree de l'essai (1000 minutes)\n",
    "\n",
    "\n",
    "#representation graphique données + modele CJ\n",
    "\n",
    "#########################################################################\n",
    "#representation synthétique toutes les interpretations aux 3 piézoomètres\n",
    "\n"
   ]
  },
  {
   "cell_type": "markdown",
   "metadata": {},
   "source": [
    "DISCUSSION SUR LES DIFFERENCES DE VALEURS ==> EN SEANCE\n",
    "- hétérogénéité de l'aquifère\n",
    "- effets éventuels de limite latérale\n",
    "- effets éventuels de limite verticale (drainance)"
   ]
  },
  {
   "cell_type": "markdown",
   "metadata": {},
   "source": [
    "## Remarque sur la représentation linéaire de Cooper-Jacob\n",
    "d'après R.P. Chapuis, 2007\n",
    "<figure>\n",
    "  <IMG SRC=\"jacob3.png\" WIDTH=650 ALIGN=\"center\">\n",
    "</figure>"
   ]
  },
  {
   "cell_type": "markdown",
   "metadata": {},
   "source": [
    " ### Pourquoi une condition $u  < 1.10^{-2}$?\n",
    "\n",
    "Cette condition est induite par l'indice de troncature de la série de Taylor. Une analyse numérique peut être réalisée pour mettre en évidence les écarts entre la solution exacte de Theis et la solution approchée selon l'indice de troncature. Dans le cas de la solution de Cooper-Jacob, la valeur limite de $u  = 1.10^{-2}$ permet de réduire totalement ces écarts. Cette valeur peut toutefois s'avérer quelquefois restrictive. On peut raisonnablement retenir une valeur limite pour u plus importante. Toutefois, c'est à l'hydrogéologue de justifier un tel choix et d'estimer les incertitudes ainsi engendrées sur les interprétations de l'essai de nappe.\n"
   ]
  },
  {
   "cell_type": "code",
   "execution_count": 1,
   "metadata": {},
   "outputs": [
    {
     "data": {
      "image/png": "[encoded data removed]",
      "text/plain": [
       "<Figure size 432x288 with 1 Axes>"
      ]
     },
     "metadata": {
      "needs_background": "light"
     },
     "output_type": "display_data"
    }
   ],
   "source": [
    "import numpy as np\n",
    "import scipy.special as sp\n",
    "import matplotlib.pyplot as plt\n",
    "\n",
    "# valeurs de u à utiliser pour x-axis\n",
    "u = np.logspace(-5, 1, 61)\n",
    "\n",
    "# parametrage figure\n",
    "plt.title('Approximation de la fonction de Theis')\n",
    "plt.xlabel('u')\n",
    "plt.ylabel('W(u)')\n",
    "plt.xscale('log')\n",
    "#plt.yscale('log')\n",
    "plt.grid()\n",
    "\n",
    "plt.plot(u, sp.exp1(u), label='solution exacte de Theis') # tracer W(u) en fonction de 1/u' \n",
    "plt.plot(u, np.log(0.56 / u), lw=0.5, label='approximation de Jacob')\n",
    "plt.plot(1/100, sp.exp1(1/100), '.',color='red', label='valeur limite u=1e(-2)') # valeur limite de Jacob\n",
    "plt.legend()\n",
    "plt.show()"
   ]
  },
  {
   "cell_type": "markdown",
   "metadata": {},
   "source": [
    "## Compléments mathématiques sur l'approximation de Cooper - Jacob"
   ]
  },
  {
   "cell_type": "markdown",
   "metadata": {},
   "source": [
    "### Expression de la fonction de Theis à partir d'un développement en série de Taylor\n",
    "\n",
    "La fonction de Theis peut également être exprimée selon un développement en série de Taylor. On obtient une formulation en série infinie de puissance:\n",
    "\n",
    "$$\n",
    "    W(u) = -\\gamma - ln(u) - \\sum_{n=1}^{\\infty} {\\frac{(-1)^n u^n}{n(n)!}}\n",
    "$$\n",
    "\n",
    "soit sous la forme développée\n",
    "\n",
    "$$\n",
    "    W(u) = -\\gamma - ln(u) + u -\\frac{u^2}{2.2!} + \\frac{u^3}{3.3!} - \\frac{u^4}{4.4!} + - \\frac{u^5}{5.5!} - \\cdots\n",
    "$$\n",
    "\n",
    "avec $\\gamma = 0.5773$ (nombre d'Euler).\n",
    "\n",
    "Cette expression corresponds à une série infinie convergente. $W(u)$ peut être approché en tronquant la série infinie après un nombre de terme suffisant\n",
    "\n",
    "Par exemple, en tronquant la série au 4ème terme:\n",
    "$$\n",
    "    W(u) = -\\gamma - ln(u) + u -\\frac{u^2}{2.2!} + \\frac{u^3}{3.3!} - \\frac{u^4}{4.4!}\n",
    "$$\n"
   ]
  },
  {
   "cell_type": "code",
   "execution_count": 9,
   "metadata": {},
   "outputs": [
    {
     "name": "stdout",
     "output_type": "stream",
     "text": [
      "     u  /  W(u) série tronquée  / W(u) Theis\n",
      "4.000e+00 -1.075e+00 3.779e-03\n",
      "4.000e-01 7.024e-01 7.024e-01\n",
      "4.000e-02 2.681e+00 2.681e+00\n",
      "4.000e-03 4.948e+00 4.948e+00\n",
      "4.000e-04 7.247e+00 7.247e+00\n",
      "4.000e-05 9.549e+00 9.549e+00\n",
      "4.000e-06 1.185e+01 1.185e+01\n",
      "4.000e-07 1.415e+01 1.415e+01\n",
      "4.000e-08 1.646e+01 1.646e+01\n",
      "4.000e-09 1.876e+01 1.876e+01\n",
      "4.000e-10 2.106e+01 2.106e+01\n"
     ]
    }
   ],
   "source": [
    "import numpy as np\n",
    "import scipy.special as sp\n",
    "import matplotlib.pyplot as plt\n",
    "\n",
    "U = 4.0 * 10** -np.arange(11.)   # generates values 4, 4e-1, 4e-2 .. 4e-10\n",
    "print(\"{:>10s} {:>10s} {:>10s}\".format('u  / ', 'W(u) série tronquée  /', 'W(u) Theis'))\n",
    "for u in U:\n",
    "    W = sp.exp1(u)\n",
    "    w = -0.5772 -np.log(u) + u - ((u)**2)/(2*sp.factorial(2)) + ((u)**3)/(3*sp.factorial(3))- ((u)**4)/(4*sp.factorial(4))\n",
    "    print(\"{:.3e} {:.3e} {:.3e}\".format(u, w, W))"
   ]
  },
  {
   "cell_type": "markdown",
   "metadata": {},
   "source": [
    "#### Sensibilité de la troncature du développement en série de Taylor\n",
    "Lors de l'approximation de la solution de Theis, l'exactitude du résultat va être fonction de l'ordre retenu pour la troncature du développement de la série de Taylor."
   ]
  },
  {
   "cell_type": "code",
   "execution_count": 14,
   "metadata": {},
   "outputs": [
    {
     "data": {
      "image/png": "[encoded data removed]",
      "text/plain": [
       "<Figure size 432x288 with 1 Axes>"
      ]
     },
     "metadata": {
      "needs_background": "light"
     },
     "output_type": "display_data"
    }
   ],
   "source": [
    "#programmation faisant appel à des fonctionnalités de boucle pour optimiser la création d'un graphique avec plusieurs séries\n",
    "import numpy as np\n",
    "import scipy.special as sp\n",
    "import matplotlib.pyplot as plt\n",
    "\n",
    "u = np.logspace(0, 1, 61)\n",
    "W = sp.exp1(u)\n",
    "w4 = -0.5772 -np.log(u) + u - ((u)**2)/(2*sp.factorial(2)) + ((u)**3)/(3*sp.factorial(3))- ((u)**4)/(4*sp.factorial(4))\n",
    "w3 = -0.5772 -np.log(u) + u - ((u)**2)/(2*sp.factorial(2)) + ((u)**3)/(3*sp.factorial(3))\n",
    "w2 = -0.5772 -np.log(u) + u - ((u)**2)/(2*sp.factorial(2))\n",
    "w1 = -0.5772 -np.log(u) + u\n",
    "\n",
    "taylor = (W,w1,w2,w3,w4)\n",
    "\n",
    "I=np.arange(1,len(taylor))\n",
    "\n",
    "fig1= plt.figure()\n",
    "ax1 = fig1.add_subplot(111)\n",
    "ax1.set(xlabel= 'u', ylabel='W(u)', title='Sensibilité de la troncature - Taylor', xscale='log')\n",
    "ax1.grid(True)\n",
    "ax1.plot(u, taylor[0], 'b', label='W(u)')\n",
    "for i in I:\n",
    "    ax1.plot(u, taylor[i], label='Ordre %s' % i)\n",
    "ax1.legend(loc='best')\n",
    "\n",
    "plt.show()"
   ]
  },
  {
   "cell_type": "markdown",
   "metadata": {},
   "source": [
    "# QUE FAIRE EN L'ABSENCE DE PUITS D'OBSERVATION?\n",
    "## source: Olsthoorn's syllabus\n",
    "\n",
    "The well function (exponential integral) can also be expressed mathemacailly as a power series\n",
    "\n",
    "$$W(u) = -\\gamma -\\ln u + u - \\frac {u^2}{2 \\times 2!} + \\frac {u^3}{3 \\times 3!} - \\frac{u^4}{4 \\times 4!} + ...$$\n",
    "\n",
    "In which $\\gamma =0.577216$, Euler's constant, a fundamental mathematical constant.\n",
    "\n",
    "For very small values of $u$, all the higher terms can be neglected. In that case we obtain a simpliefication of the well function\n",
    "\n",
    "$$W(u) \\approx -0.577216 - \\ln u,\\,\\,\\,\\,\\mbox{if}\\,\\,u << \\ln u $$\n",
    "\n",
    "Then, turning -0.577216 into a log ($-\\log(1.7811)$, combining the two logarithms and inverting the argument to remove the minus sign in the front, we obtain\n",
    "\n",
    "$$W(u) \\approx \\ln \\left( \\frac{2.25 kD t}{r^2 S} \\right)$$\n",
    "\n",
    "This yields a straight line if plotted against the time on a logarithmic scale.\n",
    "\n",
    "We can then use this approximation to obtain the transmissivity even from a pumped well using the drawdown per log  cycle. This drawdown can be expressed mathematically as\n",
    "\n",
    "$$ s(x, 10t) -s(x, t) = \\frac {Q}{4 \\pi kD} \\left[\\ln \\left(\\frac{2.25 kD 10 t)}{r^2 S}\\right) - \\ln \\left( \\frac{2.25 kD t}{r^2 S}\\right) \\right]$$\n",
    "\n",
    "which yields\n",
    "\n",
    "$$ s(x, 10t) -s(x, t) = \\frac {Q}{4 \\pi kD} \\ln 10 = \\frac{Q}{4 \\pi kD} 2.3 $$\n",
    "\n",
    "This works for any well, with or without clogging or partial penetration effects, because, it does not depend on the absolote value of the drawdown, but only on a difference of two drawdowns. When for each of the two drawdowns the effect of clogging etc. is the same, which is here obviously the case, then subtracting them eliminates these effects.\n",
    "\n",
    "But you can't obtain the storage coefficient from the pumped well from the simplified drawdown expression, because to do so you would set the argument equal to one, so that the computed drawdown will be zero. Then you would need a measured value for the time at zero drawdown, that you would take as the time at which straight line on the half-log graph intersects the line $s=0$. However, this s is influenced by extra drawdown due to partial penetration and clogging of the well, and so it's not the one that you need. Taking it, would than yield the wrong value. Hence, to also determine the storage coefficient from a field test, you need at least one observation well. An observation well is not disturbed by pumping because the flow into and out of it's screen is negligible. It may be affected by partial penetration of the screen of the pumping well only partially penetrates the aqufier and the  observation well is closer to the well than about 1.5 times the thickness of the aquifer. However, is necessary, the effect of partial penetration can be computed separately, thus allowing the measurement of the observation well to be corrected before use. If the distance to the well is more than about 1.5 times the thickness of the aquifer, then there is no correction necessary.\n",
    "\n",
    "In practice, you mostly don't have observation wells available. Therefore you can't determine the storage coefficient. In such cases you could just estimate it differently, for instance using your experience with the eaquifer or simply saying the specific yield of the unconfined aquifer is about 0.2 and that of the (semi)-confined aquifer is about 0.001. A bit wrong, may be, but generally not really far off."
   ]
  },
  {
   "cell_type": "code",
   "execution_count": null,
   "metadata": {},
   "outputs": [],
   "source": []
  }
 ],
 "metadata": {
  "kernelspec": {
   "display_name": "Python 3",
   "language": "python",
   "name": "python3"
  },
  "language_info": {
   "codemirror_mode": {
    "name": "ipython",
    "version": 3
   },
   "file_extension": ".py",
   "mimetype": "text/x-python",
   "name": "python",
   "nbconvert_exporter": "python",
   "pygments_lexer": "ipython3",
   "version": "3.8.3"
  }
 },
 "nbformat": 4,
 "nbformat_minor": 4
}
