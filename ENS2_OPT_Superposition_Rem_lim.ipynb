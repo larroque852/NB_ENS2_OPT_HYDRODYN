{
 "cells": [
  {
   "cell_type": "markdown",
   "metadata": {},
   "source": [
    "# EQUATION DE DIFFUSIVITE: PRINCIPE DE SUPERPOSITION ET APPLICATIONS AUX ESSAIS DE NAPPE\n"
   ]
  },
  {
   "cell_type": "markdown",
   "metadata": {},
   "source": [
    "# Equation de diffusivité\n",
    "\n",
    "Pour une nappe captive, l'évolution spatiale et temporelle de la hauteur piézométrique $h$ est régie par l'équation de diffusivité:\n",
    "\n",
    "$$\\nabla T. \\nabla h = -S \\frac{\\partial h}{\\partial t}$$\n",
    "\n",
    "avec $T$ transmissivité ($m^2.s^{-1}$), $S$ coefficient d'emmagasinement ($-$).\n",
    "\n",
    "Pour beaucoup d'applications, et notamment les solutions associées à des puits de pompage, il est pratique d'exprimer l'équation de diffusivité en coordonnées polaires:\n",
    "\n",
    "$$\\frac{\\partial^2 h}{\\partial r^2} + \\frac{1}{r}\\frac{\\partial h}{\\partial r} = \\frac{S}{T}\\frac{\\partial h}{\\partial t}$$\n",
    "\n",
    "avec $r$ la distance au point origine du repère polaire.\n",
    "\n",
    "Une solution de cette équation pour une nappe captive, homogène de transmissivité $T$ et de coefficient d'emmagasinement $S$, d'extension infinie captée par un puits parfait sans effet de stockage au débit $Q$ durant $t$ a été développée par Theis pour exprimer le rabattement $s$ à un point d'observationsitué à la distance $r$ du puits:\n",
    "$$\n",
    "    s = \\frac{Q}{4 \\pi T} \\int_{u}^{\\infty} {\\frac{e^{-y}}{y}} \\mathrm{d}y\n",
    "$$\n",
    "avec la variable de Theis:\n",
    "$$\n",
    "\tu = \\frac{r^2S}{4Kbt}\n",
    "$$\n",
    "\n",
    "La résolution de l'équation de diffusivité pour les hypothèses (conditions limites) précédentes amène la solution de Theis. L'utilisation de cette équation de  assez restrictives:\n",
    "- Aquifère reposant sur un couche imperméable\n",
    "- Formations géologiques homogènes, isotropes, horizontales et d'extension horizontale infinie\n",
    "- Surface piézométrique initialement horizontale\n",
    "- Loi de Darcy valide\n",
    "- Puits parfait et de diamètre négligeable\n",
    "- L'eau provient uniquement de la décompression de l'aquifère\n",
    "\n",
    "# Principe de superposition\n",
    "\n",
    " La forme mathématique de l'équation de diffusivité ou d'une de ses solution (équation de Theis) permet d'étendre le champ des applications à l'aide du principe de superposition. Pour résumer, ce principe permet de décomposer un problème complexe régit par l'équation de diffusivité en une somme et/ou un produit de problèmes élémentaires, également régis par l'équation de diffusivité, avec un ajustement des conditions limites pour chacune de ces solutions.\n",
    " \n",
    " Le principe de superposition pose que pour tout système linéaire, la réponse causée par deux ou plusieurs stimuli est la somme des réponses qui auraient été engendrées par chaque stimulus individuellement. Ainsi si la stimulation A produit la réponse $X$ et si la stimulation $B$ produit la réponse $Y$, alors la stimulation $(A + B)$ générera la réponse $(X + Y)$.\n",
    "Une fonction $F(x)$ qui répond au principe de superposition est appelée une fonction linéaire.\n",
    "\n",
    "La superposition peut être définie pour la fonction par 2 propriétés: additivité et homogénéité\n",
    "\n",
    "- Additivité\n",
    "\n",
    "$$\n",
    "F(x+y) = F(x) + F(y)\n",
    "$$\n",
    "\n",
    "- Homogénéité\n",
    "\n",
    "$$\n",
    "F(ax) = aF(x)\n",
    "$$\n",
    "\n",
    "L'équation de diffusivité pour un système captif homogène est une équation linéaire. On peut donc lui appliquer le principe de superposition. On peut également appliquer ce principe à toutes les équations qui correspondent à des solutions particulières de cette équation mère.\n",
    "A ce titre, le principe de superposition peut être utilisé pour l'équation de Theis.\n",
    "\n",
    "L'application du principe de superposition à l'équation de diffusivité trouve de nombreuses utilisations en hydrogéologie pratique:\n",
    "- estimation de l'influence de pompage à débit variable;\n",
    "- estimation de l'influence de pompages simultanés;\n",
    "- étude de l'arrêt d'un pompage;\n",
    "- étude de l'influence de limites spatiales de l'aquifère sur l'évolution de la piézométrie lors d'un pompage;\n",
    "- etc ..."
   ]
  },
  {
   "cell_type": "markdown",
   "metadata": {},
   "source": [
    "## Superposition temporelle - Etude de la remontée après arrêt du pompage\n",
    "\n",
    "Lorsque le pompage est stoppé, le niveau d'eau remonte dans le puits vers la valeur initiale (le niveau statique) avant pompage, avec une valeur de rabattement mesurée qui tend vers zéro. Les rabattements observés correspondent à des **rabattements résiduels**. L'étude de la remontée peut être utilisée pour déterminer certains paramètres hydrodynamiques.\n",
    "\n",
    "<figure>\n",
    "  <IMG SRC=\"superpos1.png\" WIDTH=500 ALIGN=\"center\">\n",
    "</figure>\n",
    "    \n",
    "Les solutions à l'équation de diffusivité classiques (Theis, Cooper-Jacob) ne sont pas directement utilisables pour quantifier l'évolution du niveau piézométrique au cours du temps lors de la remonté. \n",
    "Par exemple, la solution de Cooper-Jacob est:\n",
    "\n",
    "$$\n",
    "s = \\frac{2.3Q}{4 \\pi T} log\\left({\\frac{2.25Tt}{r^2S}}\\right)\n",
    "$$\n",
    "    \n",
    "Si $Q = 0$, alors $s = 0$ dès l'arrêt du pompage, ce qui est contraire au observations avec $s$ qui remonte progressivement au cours du temps.\n",
    "L'utilisation du principe de superposition va permettre de determiner une solution utilisable pour calculer le rabattement résiduel, en simulant de manière indirecte un débit $Q = 0$, à partir de 2 solutions élémentaires de pompage au débit $Q1 = Q$ et $Q_2 = -Q$, dont la somme algébrique $Q_T = Q_1 + Q_2 = +Q + (-Q) = 0$\n",
    "\n",
    "<figure>\n",
    "  <IMG SRC=\"superpos2.png\" WIDTH=500 ALIGN=\"center\">\n",
    "</figure>\n",
    "\n",
    "Si on considère un pompage jusqu'à $t_f$, on exprime le rabattement à l'instant $t>t_f$ à partir de la solution de Theis à l'aide de 2 termes:\n",
    "    \n",
    "*Pompage période $t_0$ à $t$*\n",
    "\n",
    "$$s_{(+)} = \\frac{Q}{4 \\pi T}W \\left({\\frac{r^2S}{4T(t_f + t) }} \\right)$$\n",
    "\n",
    "*Injection sur la période $t_f$ à $t$*\n",
    "\n",
    "$$s_{(-)} = \\frac{-Q}{4 \\pi T}W \\left({\\frac{r^2S}{4T(t) }} \\right)$$\n",
    "\n",
    "Le rabattement résiduel $s_r(t)$ est la somme des 2 termes:\n",
    "$$\n",
    "s = s_{(+)} + s_{(-)} = \\frac{Q}{4 \\pi T} \\left[{W(u) - W(u')} \\right]\n",
    "$$\n",
    "\n",
    "Dans l'hypothèse où les conditions d'application sont respectées, o peut utiliser la formulation de Cooper - Jacob pour le même raisonnement. Il vient alors   \n",
    "$$\n",
    "\\left.\n",
    "\\begin{array}{ll}\n",
    "s_{(+)} = \\frac{2.3Q}{4 \\pi T} log \\left({\\frac{2.25 T(t_f + t)}{r^2 S}} \\right)\\\\\n",
    "s_{(-)} = \\frac{2.3(-Q)}{4 \\pi T} log \\left({\\frac{2.25 Tt}{r^2 S}} \\right)\n",
    "\\end{array}\n",
    "\\right \\}\\Longrightarrow s_r = \\frac{2.3Q}{4 \\pi T} log \\left({\\frac{(t_f + t)}{t}} \\right)\n",
    "$$\n",
    "    \n",
    "En reprenant les notations comme suit:\n",
    "- $Q$ débit de pompage durant l'essai\n",
    "    \n",
    "- $t$ temps écoulé depuis le début du pompage\n",
    "- $t'$ temps écoulé depuis le début de la remontée\n",
    "- $s'$ rabattement résiduel\n",
    "\n",
    "L'approximation de Cooper - Jacob s'exprime:\n",
    "    \n",
    "$$\n",
    "s' = \\frac{2.3Q}{4 \\pi T}log \\left(\\frac{t}{t'}\\right)\n",
    "$$\n",
    "    \n",
    "L'évolution du rabattement résiduel est une fonction logarithme base 10 du ratio temps écoulé despuis le début du pompage par rapport au temps écoulé depuis le début de la remontée. La pente de cette droite peut être utilisée pour calculer la transmissivité, de manière analogue à l'interprétation en descente.\n",
    "    \n",
    "<figure>\n",
    "  <IMG SRC=\"superpos3.png\" WIDTH=450 ALIGN=\"center\">\n",
    "</figure>\n",
    "(d'après Chapuis, 2007)\n",
    "\n",
    "La pente de la droite, calculée sur un cycle log corresponds à :\n",
    "    \n",
    "$$\n",
    "\\alpha = \\frac{s_a - s_b}{log ((t/t')_a) -log ((t/t')_b)} = \\frac{\\Delta s}{log(\\frac{(t/t')_a}{(t/t')_b})} = \\Delta s\n",
    "$$\n",
    "\n",
    "on a alors par analogie avec l'équation l'expression directe pour $T$ (6):\n",
    "$$\n",
    "T = \\frac{2.3Q}{4 \\pi \\Delta s}\n",
    "$$\n",
    "    \n",
    "**Rmq: l'exploitation de la remontée ne permet pas d'estimer la valeur du coefficient d'emmagasinement**"
   ]
  },
  {
   "cell_type": "markdown",
   "metadata": {},
   "source": [
    "### Application : essai de nappe standard - analyse de la remontée du niveau\n",
    "\n",
    "Lors d'un stage à l'étranger, vous suivez un essai de nappe réalisé sur une nappe captive. Un puits $F$ est pompé au débit de 163 cubic feet/minute durant 800 minutes. A l'arret du pompage, la remontée du niveau est enregistrée à un piézomètre $P_a$ situé à 100 feet de $F$ (fichier TD_Remontee.txt). Le niveau statique de la nappe avant le pompage est $N_{stat} = -61.2$ feet/repère.\n",
    "2. Interpréter les données de remontée afin d'estimer les paramètres hydrodynamiques de l'aquifère"
   ]
  },
  {
   "cell_type": "markdown",
   "metadata": {},
   "source": [
    "#### Graphique expérimental $s = log_{10}(t/t')$\n",
    "\n",
    "- calcul du rabattement: $s = H_0 - H_t$\n",
    "- calcul du temps résiduel: $t_{res} = t/t'$ avec t le temps écoulé depuis le début du pompage (durée du pompage = $t_p$) et t' le temps écoulé depuis le début de la remontée (arrêt du pompage)"
   ]
  },
  {
   "cell_type": "markdown",
   "metadata": {},
   "source": [
    "#### Ajustement linéaire et estimation des paramètres"
   ]
  },
  {
   "cell_type": "code",
   "execution_count": 3,
   "metadata": {},
   "outputs": [
    {
     "data": {
      "image/png": "[encoded data removed]",
      "text/plain": [
       "<Figure size 432x288 with 1 Axes>"
      ]
     },
     "metadata": {
      "needs_background": "light"
     },
     "output_type": "display_data"
    },
    {
     "data": {
      "image/png": "[encoded data removed]",
      "text/plain": [
       "<Figure size 432x288 with 1 Axes>"
      ]
     },
     "metadata": {
      "needs_background": "light"
     },
     "output_type": "display_data"
    },
    {
     "name": "stdout",
     "output_type": "stream",
     "text": [
      "Resultats interprétation:\n",
      "T = 3.5e+01 feet2/min\n",
      "T = 5.4e-02 m2/s\n",
      "S = ....   et non on ne peut pas calculer S !!!\n"
     ]
    }
   ],
   "source": [
    "# INTERPRETATION DE LA REMONTEE\n",
    "\n",
    "import numpy as np\n",
    "import scipy.special as sp\n",
    "import math as math\n",
    "import matplotlib.pyplot as plt\n",
    "\n",
    "\n",
    "#lecture fichier en local\n",
    "#data = np.genfromtxt('TD_Remontee.csv',delimiter=',')\n",
    "# colonnes sont [t[minutes], prof[feet/rep]] (voir 1ere ligne fichier texte)\n",
    "\n",
    "#lecture fichier Github pour Colabotary on line\n",
    "data = np.genfromtxt('https://raw.githubusercontent.com/larroque852/NB_ENS2_OPT_HYDRODYN/main/TD_Remontee.csv',delimiter=',')\n",
    "\n",
    "tp = 800 #duree du pompage (min)\n",
    "r  = 100 #distance du piezometre d'observation (feet)\n",
    "Q = 163 #feet3/min\n",
    "trem = data[:,0]\n",
    "tres = (tp+trem)/trem #calcul du temps residuel\n",
    "s = data[:,1]-61.2 #prof(t) - prof(t=0) feet\n",
    "\n",
    "plt.title('Essai de nappe - Remontée')\n",
    "plt.ylabel('s [m]')\n",
    "plt.xlabel('t residuel = t/t\" [min]')\n",
    "plt.xscale('log')\n",
    "plt.grid()\n",
    "plt.semilogx(tres, s, '.', label = 'mes')\n",
    "plt.legend()\n",
    "plt.show()\n",
    "\n",
    "#Ajustement linéaire sur les donnees experimentales\n",
    "#determination de la transmissivite\n",
    "\n",
    "m, b = np.polyfit(np.log10(tres),s, 1)\n",
    "T = (2.3*Q)/(4*3.1415*m)\n",
    "\n",
    "plt.title('Essai de nappe - Remontée')\n",
    "plt.ylabel('s [m]')\n",
    "plt.xlabel('t residuel = t/t\" [min]')\n",
    "plt.xscale('log')\n",
    "plt.grid()\n",
    "\n",
    "plt.semilogx(tres, s, '.', label = 'mes')\n",
    "plt.semilogx(tres, m * np.log10(tres) + b,'-', label='Approx. CJ' )\n",
    "plt.legend\n",
    "plt.show()\n",
    "\n",
    "print('Resultats interprétation:')\n",
    "print('T = {:.1e} feet2/min'.format(T))\n",
    "print('T = {:.1e} m2/s'.format(T*0.092/60))\n",
    "\n",
    "print('S = ....   et non on ne peut pas calculer S !!!')\n",
    "m, b = np.polyfit(np.log10(tres),s, 1)\n",
    "T = (2.3*Q)/(4*3.1415*m)"
   ]
  },
  {
   "cell_type": "markdown",
   "metadata": {},
   "source": [
    "## Superposition spatiale - Effet de limite\n",
    "\n",
    "Dans la plupart des situations réelles les aquifères ne peuvent pas être considérés comme infinis\n",
    "A partir d'un horizon de temps variable, des effets de limite peuvent se manifester sur la courbe d'évolution du rabattement entraînant un écart au modèle logarithmique de Cooper-Jacob, correspondant à l'influence de ces limites. L'effet de ces limites se manifeste selon 2 comportements principaux:\n",
    "- un rabattement inférieur au modèle de Cooper-Jacob, traduisant un impact moindre du pompage pour fournir un débit constant: on parle de **limite alimentée**. physiquement, cela peut correspondre à une rivière, un lac, ...\n",
    "- un rabattement supérieur au modèle de Cooper-Jacob, traduisant un impact plus important du pompage pour fournir un débit constant: on parle de **limite imperméable**. Physiquement, cela peut correspondre à une variations latérale de faciès, une faille, ...\n",
    "\n",
    "<figure>\n",
    "  <IMG SRC=\"superpos5.png\" WIDTH=550 ALIGN=\"center\">\n",
    "</figure>\n",
    "    \n",
    "Les effets de limite peuvent être estimés à l'aide du principe de superposition (spatiale et temporelle).\n",
    "$\\Longrightarrow$ Utilisation de systèmes composés de différents puits réels et fictifs permettant de restituer le comportement hydraulique réel du système. La solution mathématique du système réel correspond à la somme des solutions élémentaires du système composite virtuel.\n",
    "    \n",
    "<figure>\n",
    "  <IMG SRC=\"superpos4.png\" WIDTH=550 ALIGN=\"center\">\n",
    "</figure>\n",
    "  (d'après Kruseman and de Ridder, 2000)\n",
    "  \n",
    "#### Limite alimentée\n",
    "On considère un aquifère limité latéralement par une rivièreen connexion hydraulique. Un système est composé par un puits de pompage F et un piézomètre P, selon le système présenté sur la figure suivante.\n",
    "    \n",
    "<figure>\n",
    "  <IMG SRC=\"superpos6.png\" WIDTH=500 ALIGN=\"center\">\n",
    "</figure>\n",
    "(d'après Kruseman and de Ridder, 2000)\n",
    "    \n",
    "    \n",
    "Pour restituer l'effet de la limite, on utilise un \"puits image $F'$\", symétrique du puits de pompage F par rapportà la limite (la faille). Ce puits fictif est injecté de manière synchrone au débit $-Q$, afin de restituer l'impact hydraulique de la rivière, qui va \"fournir\" de l'eau à l'aquifère dès que le cône de rabattement aura atteint cette dernière. On a donc:\n",
    "- Forage réel $F$: $+ Q$, $d_{F-P}=r$\n",
    "- Forage image fictif $F'$: $-Q$, $d_{F'-P}=r_i$\n",
    "\n",
    "A l'aide de la solution de Theis, le rabattement total au piézomètre $P$ s'exprime à l'aide des solutions élémentaires pour chacun des puits (réel et image) exprimées pour la distance entre chaque puits et le piézomètre:\n",
    "$$\n",
    "s_T = s_{F \\Rightarrow P} + s_{F' \\Rightarrow P}\n",
    "$$\n",
    "\n",
    "$$\n",
    "s_T ={\\frac{Q}{4 \\pi T}W \\left({\\frac{r^2S}{4Tt) }} \\right)} + {\\frac{-Q}{4 \\pi T}W \\left({\\frac{r_i^2S}{4Tt) }} \\right)}\n",
    "$$\n",
    "\n",
    "#### Limite imperméable\n",
    "\n",
    "Une approche comparable peut être réalisée dans le cas d'une limite imperméable. Pour restituer l'effet de \"l'absence d'aquifère\" au delà de la limite, le puits fictif placé de manière symétrique à la limite est pompé au débit $+Q$. Cela génére donc un rabattement supplémentaire correspondant à la limite. La formule générale est:\n",
    "- Forage réel $F$: $+ Q$, $d_{F-P}=r$\n",
    "- Forage image fictif $F'$: $+Q$, $d_{F'-P}=r_i$\n",
    "$$\n",
    "s_T = s_{F \\Rightarrow P} + s_{F' \\Rightarrow P}\n",
    "$$\n",
    "\n",
    "$$\n",
    "s_T ={\\frac{Q}{4 \\pi T}W \\left({\\frac{r^2S}{4Tt) }} \\right)} + {\\frac{+Q}{4 \\pi T}W \\left({\\frac{r_i^2S}{4Tt) }} \\right)}\n",
    "$$"
   ]
  },
  {
   "cell_type": "code",
   "execution_count": 1,
   "metadata": {},
   "outputs": [
    {
     "data": {
      "image/png": "[encoded data removed]",
      "text/plain": [
       "<Figure size 432x288 with 1 Axes>"
      ]
     },
     "metadata": {
      "needs_background": "light"
     },
     "output_type": "display_data"
    }
   ],
   "source": [
    "import numpy as np\n",
    "import scipy.special as sp\n",
    "import math as math\n",
    "import matplotlib.pyplot as plt #mode retina - qualité meilleure\n",
    "\n",
    "\n",
    "T = 0.005 #m2/sec\n",
    "S = 1e-4\n",
    "\n",
    "Q = 80/(3600) # m3/min\n",
    "xp = 50 #0 < (m) origine repere puits F\n",
    "yp = 50 #0 < (m) origine repere puits F\n",
    "z = 200\n",
    "\n",
    "r  = math.sqrt(xp**2+yp**2) #distance du piezometre d'observation\n",
    "\n",
    "ri = math.sqrt((2*z-xp)**2+yp**2)\n",
    "\n",
    "# valeurs de t à utiliser pour x-axis\n",
    "t = np.logspace(1, 4, 61)\n",
    "\n",
    "# calcul du rabattement au piezometre\n",
    "# utilisation de la solution de Theis\n",
    "#puits reel\n",
    "sF = (Q)/(4*3.14*T)*sp.exp1((r**2*S)/(2.25*T*t))\n",
    "#puits image\n",
    "sFi_ali = (-Q)/(4*3.14*T)*sp.exp1((ri**2*S)/(2.25*T*t))\n",
    "sFi_imp = (Q)/(4*3.14*T)*sp.exp1((ri**2*S)/(2.25*T*t))\n",
    "\n",
    "#s piezometre\n",
    "sp_ali = sF + sFi_ali\n",
    "sp_imp = sF + sFi_imp\n",
    "\n",
    "\n",
    "plt.title('Essai de nappe - Effet de limite')\n",
    "plt.ylabel('s [m]')\n",
    "plt.xlabel('$t$ [sec]')\n",
    "plt.xscale('log')\n",
    "plt.grid()\n",
    "plt.plot(t, sp_ali, label='limite alimentee')\n",
    "plt.plot(t, sp_imp,label='limite impermeable')\n",
    "plt.plot(t, sF,label='aquifere infini')\n",
    "plt.legend()\n",
    "plt.show()\n"
   ]
  },
  {
   "cell_type": "markdown",
   "metadata": {},
   "source": [
    "### Application : interprétation d'essai de nappe avec effet de limite\n",
    "\n",
    "Pour caractériser les propriétés hydrodynamiques d'un aquifère, un essai de nappe est réalisé. Un puits $F$ est pompé au débit de 547 litre/minute durant 72 heures. Les profondeurs sont enregistrés à un piézomètre $P_a$ situé à 8.2 mètres de $F$ (fichier TD_Superposition.txt). Le niveau statique de la nappe est $N_{stat} = -5.32$ mètre/repère.\n",
    "1. Construire le graphique expérimental\t$s = log10(t)$;\n",
    "2. A l'aide de la solution de Cooper-Jacob, déterminer les paramètres hydrodynamiques de l'aquifère (T et S);\n",
    "3. Quelles informations supplémentaires peut on obtenir "
   ]
  },
  {
   "cell_type": "markdown",
   "metadata": {},
   "source": [
    "#### Graphique expérimental $s = log10(t)$;"
   ]
  },
  {
   "cell_type": "markdown",
   "metadata": {},
   "source": [
    "on remarque une stabilisation des rabattement aux alentours de $10^3$ minutes. Il y a donc un probable effet de limite alimenté. Pour interpréter l'essai ed nappe, il est nécessaire d'isoler les donnees représentatives de l'aquifère avant l'influence de la limite"
   ]
  },
  {
   "cell_type": "markdown",
   "metadata": {},
   "source": [
    "On peut alors réaliser l'interprétation de Cooper Jacob classique sur les données filtrées et vérifier la condition de Cooper-Jacob"
   ]
  },
  {
   "cell_type": "code",
   "execution_count": 9,
   "metadata": {},
   "outputs": [
    {
     "ename": "NameError",
     "evalue": "name 't_cal' is not defined",
     "output_type": "error",
     "traceback": [
      "\u001b[0;31m---------------------------------------------------------------------------\u001b[0m",
      "\u001b[0;31mNameError\u001b[0m                                 Traceback (most recent call last)",
      "\u001b[0;32m<ipython-input-9-16a0434424eb>\u001b[0m in \u001b[0;36m<module>\u001b[0;34m\u001b[0m\n\u001b[0;32m----> 1\u001b[0;31m \u001b[0mm\u001b[0m\u001b[0;34m,\u001b[0m \u001b[0mb\u001b[0m \u001b[0;34m=\u001b[0m \u001b[0mnp\u001b[0m\u001b[0;34m.\u001b[0m\u001b[0mpolyfit\u001b[0m\u001b[0;34m(\u001b[0m\u001b[0mnp\u001b[0m\u001b[0;34m.\u001b[0m\u001b[0mlog10\u001b[0m\u001b[0;34m(\u001b[0m\u001b[0mt_cal\u001b[0m\u001b[0;34m)\u001b[0m\u001b[0;34m,\u001b[0m\u001b[0ms_cal\u001b[0m\u001b[0;34m,\u001b[0m \u001b[0;36m1\u001b[0m\u001b[0;34m)\u001b[0m\u001b[0;34m\u001b[0m\u001b[0;34m\u001b[0m\u001b[0m\n\u001b[0m\u001b[1;32m      2\u001b[0m \u001b[0;31m#calcul de t0 - approche analytique\u001b[0m\u001b[0;34m\u001b[0m\u001b[0;34m\u001b[0m\u001b[0;34m\u001b[0m\u001b[0m\n\u001b[1;32m      3\u001b[0m \u001b[0mt0\u001b[0m \u001b[0;34m=\u001b[0m \u001b[0mpow\u001b[0m\u001b[0;34m(\u001b[0m\u001b[0;36m10\u001b[0m\u001b[0;34m,\u001b[0m\u001b[0;34m-\u001b[0m\u001b[0mb\u001b[0m\u001b[0;34m/\u001b[0m\u001b[0mm\u001b[0m\u001b[0;34m)\u001b[0m\u001b[0;34m\u001b[0m\u001b[0;34m\u001b[0m\u001b[0m\n\u001b[1;32m      4\u001b[0m \u001b[0;34m\u001b[0m\u001b[0m\n\u001b[1;32m      5\u001b[0m \u001b[0;31m#calcul des parametres T et S de l'aquifère\u001b[0m\u001b[0;34m\u001b[0m\u001b[0;34m\u001b[0m\u001b[0;34m\u001b[0m\u001b[0m\n",
      "\u001b[0;31mNameError\u001b[0m: name 't_cal' is not defined"
     ]
    }
   ],
   "source": [
    "m, b = np.polyfit(np.log10(t_cal),s_cal, 1)\n",
    "#calcul de t0 - approche analytique\n",
    "t0 = pow(10,-b/m)\n",
    "\n",
    "#calcul des parametres T et S de l'aquifère\n",
    "T = (2.3*Q)/(4*3.1415*m)\n",
    "S = (2.25*T*t0)/r**2\n",
    "u1 = r**2*S/(4*T*(t_cal[2]))\n",
    "\n",
    "plt.title('Essai de nappe - Remontée')\n",
    "plt.ylabel('s [m]')\n",
    "plt.xlabel('t [min]')\n",
    "plt.xscale('log')\n",
    "plt.grid()\n",
    "plt.plot(t,s,'.', label = 's mes')\n",
    "plt.plot(t_cal, m * np.log10(t_cal) + b,'-', label='Approx. CJ' ) \n",
    "plt.legend()\n",
    "plt.show()\n",
    "\n",
    "print('Resultats interprétation:')\n",
    "print('intercept t0  = {:.2e} [min]'.format(t0))\n",
    "print('T = {:.1e} m2/min'.format(T))\n",
    "print('S = {:.1e} (-)'.format(S))\n",
    "print('u1 = {:.1e}'.format(u1))"
   ]
  },
  {
   "cell_type": "code",
   "execution_count": 11,
   "metadata": {},
   "outputs": [
    {
     "data": {
      "image/png": "[encoded data removed]",
      "text/plain": [
       "<Figure size 432x288 with 1 Axes>"
      ]
     },
     "metadata": {
      "needs_background": "light"
     },
     "output_type": "display_data"
    },
    {
     "data": {
      "image/png": "[encoded data removed]",
      "text/plain": [
       "<Figure size 432x288 with 1 Axes>"
      ]
     },
     "metadata": {
      "needs_background": "light"
     },
     "output_type": "display_data"
    },
    {
     "name": "stdout",
     "output_type": "stream",
     "text": [
      "Resultats interprétation:\n",
      "intercept t0  = 6.50e-02 [min]\n",
      "T = 1.0e-01 m2/min\n",
      "S = 2.2e-04 (-)\n",
      "u1 = 7.3e-03\n"
     ]
    }
   ],
   "source": [
    "import numpy as np\n",
    "import pandas as pd\n",
    "import scipy.special as sp\n",
    "import math as math\n",
    "import matplotlib.pyplot as plt\n",
    "\n",
    "df_file = pd.read_table('https://raw.githubusercontent.com/larroque852/NB_ENS2_OPT_HYDRODYN/main/TD_lim_al.csv',delimiter=',')\n",
    "# définition des noms des colonnes\n",
    "df_file.columns= ['temps','prof']\n",
    "df_data = df_file.assign(rab = df_file['prof']-5.32).copy()\n",
    "df_data = df_data.assign(logt = np.log10(df_file['temps']))\n",
    "df_data.head()\n",
    "\n",
    "#variables de l'essai de nappe\n",
    "Q = 788/(24*60) # m3/min\n",
    "r  = 8.2 #distance du piezometre d'observation\n",
    "\n",
    "# Presentation des donnees experimentales - parametrage de la figure\n",
    "ax = df_data.plot(kind = 'scatter',x='temps',y='rab', logx = True, color='red', grid='on')\n",
    "ax.set_xlabel(\"Rabattement (m)\")\n",
    "ax.set_ylabel(\"Temps (min)\")\n",
    "plt.title('Données de terrain - Rabattementq')\n",
    "plt.show()\n",
    "\n",
    "#choix des points pour la méthode CJ\n",
    "df_jacob_data = df_data.loc[(df_data['temps'] > 3) & (df_data['temps'] < 1000)].copy() #2 bornes/autre maniere\n",
    "\n",
    "#calage Jacob\n",
    "m,b = np.polyfit(df_jacob_data['logt'],df_jacob_data['rab'],1)\n",
    "#calcul de t0\n",
    "t0 = pow(10,-b/m)\n",
    "#calcul des parametres T et S de l'aquifère\n",
    "T = (2.3*Q)/(4*3.1415*m)\n",
    "S = (2.25*T*t0)/r**2\n",
    "#condition de Cooper-Jacob --> 1er point utilisé pour regression\n",
    "u1 = r**2*S/(4*T*df_jacob_data['temps'].iloc[0])\n",
    "\n",
    "#modele cooper jacob pour une plage de temps correspondant à celle de l'essai complet\n",
    "tmod = np.linspace(1,1000)\n",
    "smod = (2.3*Q/4/np.pi/T)*np.log10(2.25*T*tmod/r**2 /S)\n",
    "\n",
    "#representation graphique données + modele CJ\n",
    "ax = df_data.plot(kind = 'scatter',x='temps',y='rab', logx = True, color='red', grid='on',label='s mes')\n",
    "ax.scatter(df_jacob_data['temps'],df_jacob_data['rab'],label='s retenu Jacob')\n",
    "plt.plot(tmod,smod,color='green',label='modèle CJ')\n",
    "ax.set_ylabel(\"Rabattement (m)\")\n",
    "ax.set_xlabel(\"Temps (min)\")\n",
    "plt.legend(loc='best')\n",
    "plt.title('Interprétation modele Cooper-Jacob')\n",
    "plt.show()\n",
    "\n",
    "print('Resultats interprétation:')\n",
    "print('intercept t0  = {:.2e} [min]'.format(t0))\n",
    "print('T = {:.1e} m2/min'.format(T))\n",
    "print('S = {:.1e} (-)'.format(S))\n",
    "print('u1 = {:.1e}'.format(u1))"
   ]
  },
  {
   "cell_type": "code",
   "execution_count": null,
   "metadata": {},
   "outputs": [],
   "source": []
  }
 ],
 "metadata": {
  "kernelspec": {
   "display_name": "Python 3",
   "language": "python",
   "name": "python3"
  },
  "language_info": {
   "codemirror_mode": {
    "name": "ipython",
    "version": 3
   },
   "file_extension": ".py",
   "mimetype": "text/x-python",
   "name": "python",
   "nbconvert_exporter": "python",
   "pygments_lexer": "ipython3",
   "version": "3.8.3"
  }
 },
 "nbformat": 4,
 "nbformat_minor": 4
}
